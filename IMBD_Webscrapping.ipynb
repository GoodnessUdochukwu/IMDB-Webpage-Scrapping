{
 "cells": [
  {
   "cell_type": "markdown",
   "id": "b2a224bc-76d5-4c3d-b1cd-679288cc62fc",
   "metadata": {
    "id": "uZ4KzYaO4r2r"
   },
   "source": [
    "#### **Challenge: Use case: imdb top charts**\n",
    "\n",
    "\n",
    "    Our objective is going to be to scrape information and store it in a pandas dataframe.\n",
    "\n"
   ]
  },
  {
   "cell_type": "code",
   "execution_count": 1,
   "id": "5d525521-2343-4b1b-a69c-9cc395a6af71",
   "metadata": {
    "id": "EqouwmpU4r2r",
    "tags": []
   },
   "outputs": [
    {
     "name": "stderr",
     "output_type": "stream",
     "text": [
      "C:\\Users\\Privat\\anaconda3\\lib\\site-packages\\requests\\__init__.py:109: RequestsDependencyWarning: urllib3 (1.26.9) or chardet (5.0.0)/charset_normalizer (2.0.4) doesn't match a supported version!\n",
      "  warnings.warn(\n"
     ]
    }
   ],
   "source": [
    "# 1. import libraries\n",
    "from bs4 import BeautifulSoup\n",
    "import requests\n",
    "import pandas as pd"
   ]
  },
  {
   "cell_type": "code",
   "execution_count": 2,
   "id": "33bf2031-0165-4f1b-935e-3e28a9dc8680",
   "metadata": {},
   "outputs": [
    {
     "data": {
      "text/plain": [
       "<Response [200]>"
      ]
     },
     "execution_count": 2,
     "metadata": {},
     "output_type": "execute_result"
    }
   ],
   "source": [
    "requests.get('https://www.imdb.com/chart/top')"
   ]
  },
  {
   "cell_type": "code",
   "execution_count": 3,
   "id": "ced0de68-2b23-4f52-a3de-c58f5749ceb3",
   "metadata": {},
   "outputs": [
    {
     "data": {
      "text/plain": [
       "<Response [404]>"
      ]
     },
     "execution_count": 3,
     "metadata": {},
     "output_type": "execute_result"
    }
   ],
   "source": [
    "requests.get('https://www.imdb.com/chart/top/hjhjghgj')"
   ]
  },
  {
   "cell_type": "code",
   "execution_count": 4,
   "id": "dc5cfedb-c03f-4209-bee8-34d9f9ec6eea",
   "metadata": {
    "id": "jCoafcfp4r2r"
   },
   "outputs": [],
   "source": [
    "# 2. find url and store it in a variable\n",
    "url = \"https://www.imdb.com/chart/top\""
   ]
  },
  {
   "cell_type": "code",
   "execution_count": 5,
   "id": "478c1ae1-9c8d-429e-b58a-9fce2f2c4454",
   "metadata": {
    "colab": {
     "base_uri": "https://localhost:8080/"
    },
    "id": "WXa8oy2w4r2s",
    "outputId": "bcc4d7e8-f6d6-4aed-96ef-5efc59349d6d"
   },
   "outputs": [
    {
     "data": {
      "text/plain": [
       "200"
      ]
     },
     "execution_count": 5,
     "metadata": {},
     "output_type": "execute_result"
    }
   ],
   "source": [
    "# 3. download html with a get request\n",
    "response = requests.get(url)\n",
    "response.status_code # 200 status code means OK!"
   ]
  },
  {
   "cell_type": "code",
   "execution_count": 6,
   "id": "1aab5fac-d1be-4282-a867-8f44976a156b",
   "metadata": {
    "tags": []
   },
   "outputs": [],
   "source": [
    "soup = BeautifulSoup(response.content, 'html.parser')"
   ]
  },
  {
   "cell_type": "code",
   "execution_count": 7,
   "id": "647073e1-d53c-4655-8c46-cd76ac099e4e",
   "metadata": {
    "colab": {
     "base_uri": "https://localhost:8080/"
    },
    "id": "XQI6Vwmy4r2s",
    "outputId": "54fd3fce-bac0-42f0-a26e-7332eea05f74",
    "tags": []
   },
   "outputs": [],
   "source": [
    "# 4.1. parse html (create the 'soup')\n",
    "soup = BeautifulSoup(response.content, \"html.parser\")\n",
    "# 4.2. check that the html code looks like it should"
   ]
  },
  {
   "cell_type": "code",
   "execution_count": 8,
   "id": "bcfe76b2-722e-4fc2-8af5-5b7990685e4f",
   "metadata": {},
   "outputs": [
    {
     "data": {
      "text/plain": [
       "[<a href=\"/title/tt0111161/\" title=\"Frank Darabont (dir.), Tim Robbins, Morgan Freeman\">Die Verurteilten</a>]"
      ]
     },
     "execution_count": 8,
     "metadata": {},
     "output_type": "execute_result"
    }
   ],
   "source": [
    "#main > div > span > div > div > div.lister > table > tbody > tr:nth-child(1) > td.titleColumn > a\n",
    "soup.select('#main > div > span > div > div > div.lister > table > tbody > tr:nth-child(1) > td.titleColumn > a')"
   ]
  },
  {
   "cell_type": "code",
   "execution_count": 9,
   "id": "717d0b28-bcaf-44eb-96b7-8170ac5d22a4",
   "metadata": {},
   "outputs": [
    {
     "data": {
      "text/plain": [
       "<a href=\"/title/tt0111161/\" title=\"Frank Darabont (dir.), Tim Robbins, Morgan Freeman\">Die Verurteilten</a>"
      ]
     },
     "execution_count": 9,
     "metadata": {},
     "output_type": "execute_result"
    }
   ],
   "source": [
    "soup.select('#main > div > span > div > div > div.lister > table > tbody > tr:nth-child(1) > td.titleColumn')[0].a"
   ]
  },
  {
   "cell_type": "code",
   "execution_count": 10,
   "id": "7d6a45a3-e974-4166-9d61-408f1518681b",
   "metadata": {},
   "outputs": [
    {
     "data": {
      "text/plain": [
       "1"
      ]
     },
     "execution_count": 10,
     "metadata": {},
     "output_type": "execute_result"
    }
   ],
   "source": [
    "len(soup.select('#main > div > span > div > div > div.lister > table > tbody > tr:nth-child(1) > td.titleColumn > a'))"
   ]
  },
  {
   "cell_type": "code",
   "execution_count": 11,
   "id": "b18be4a1-ab9f-4b34-b99c-91a7c5e85753",
   "metadata": {},
   "outputs": [
    {
     "data": {
      "text/plain": [
       "'Die Verurteilten'"
      ]
     },
     "execution_count": 11,
     "metadata": {},
     "output_type": "execute_result"
    }
   ],
   "source": [
    "#main > div > span > div > div > div.lister > table > tbody > tr:nth-child(1) > td.titleColumn > a\n",
    "soup.select('#main > div > span > div > div > div.lister > table > tbody > tr:nth-child(1) > td.titleColumn > a')[0].get_text()"
   ]
  },
  {
   "cell_type": "code",
   "execution_count": 12,
   "id": "8e215b1c-db16-4c1c-ab45-8150299f1563",
   "metadata": {
    "colab": {
     "base_uri": "https://localhost:8080/",
     "height": 35
    },
    "id": "A9KuCwjt4r2t",
    "outputId": "d6192bcb-5725-4329-8571-6872d2726992"
   },
   "outputs": [
    {
     "data": {
      "text/plain": [
       "'Die Verurteilten'"
      ]
     },
     "execution_count": 12,
     "metadata": {},
     "output_type": "execute_result"
    }
   ],
   "source": [
    "# 5. retrieve/extract the desired info (here, you'll paste the \"Selector\" you copied before to get the element that belongs to the top movie)\n",
    "\n",
    "soup.select(\"#main > div > span > div > div > div.lister > table > tbody > tr > td.titleColumn > a\")[0].get_text()"
   ]
  },
  {
   "cell_type": "code",
   "execution_count": 13,
   "id": "3bfe3db7-0f2d-459f-853d-10fde82f390a",
   "metadata": {
    "tags": []
   },
   "outputs": [],
   "source": [
    "# soup.select(\"#main > div > span > div > div > div.lister > table > tbody > tr > td.titleColumn > a\")"
   ]
  },
  {
   "cell_type": "code",
   "execution_count": 14,
   "id": "378e5938-b656-4139-b3d5-68d5a993e8f1",
   "metadata": {},
   "outputs": [
    {
     "data": {
      "text/plain": [
       "'(1994)'"
      ]
     },
     "execution_count": 14,
     "metadata": {},
     "output_type": "execute_result"
    }
   ],
   "source": [
    "soup.select('#main > div > span > div > div > div.lister > table > tbody > tr:nth-child(1) > td.titleColumn > span')[0].get_text()"
   ]
  },
  {
   "cell_type": "code",
   "execution_count": 15,
   "id": "502898f2-1f36-431e-9763-35da8eb8f05a",
   "metadata": {
    "tags": []
   },
   "outputs": [
    {
     "data": {
      "text/plain": [
       "'Christopher Nolan (dir.), Christian Bale, Heath Ledger'"
      ]
     },
     "execution_count": 15,
     "metadata": {},
     "output_type": "execute_result"
    }
   ],
   "source": [
    "soup.select('tr > td.titleColumn > a')[2]['title']"
   ]
  },
  {
   "cell_type": "code",
   "execution_count": 16,
   "id": "c8c8d699-8c4b-4c44-b588-a4ea89b8a6b8",
   "metadata": {
    "tags": []
   },
   "outputs": [],
   "source": [
    "# soup.select('tr > td.ratingColumn strong')#[0].get_text()"
   ]
  },
  {
   "cell_type": "code",
   "execution_count": 17,
   "id": "221bb0be-c1cd-432d-88ed-5e2afe90324a",
   "metadata": {
    "tags": []
   },
   "outputs": [
    {
     "data": {
      "text/plain": [
       "'(1994)'"
      ]
     },
     "execution_count": 17,
     "metadata": {},
     "output_type": "execute_result"
    }
   ],
   "source": [
    "soup.select('tr > td.titleColumn span')[0].get_text()"
   ]
  },
  {
   "cell_type": "code",
   "execution_count": 18,
   "id": "47aa4bb6-a7a1-4d58-b765-617af435a773",
   "metadata": {
    "tags": []
   },
   "outputs": [],
   "source": [
    "rating = []\n",
    "for r in soup.select('td.ratingColumn strong'):\n",
    "    rating.append(r.get_text())"
   ]
  },
  {
   "cell_type": "code",
   "execution_count": 19,
   "id": "b0d7440d-9974-449d-a9a0-7d5e66a87264",
   "metadata": {
    "tags": []
   },
   "outputs": [
    {
     "data": {
      "text/plain": [
       "'Francis Ford Coppola (dir.), Marlon Brando, Al Pacino'"
      ]
     },
     "execution_count": 19,
     "metadata": {},
     "output_type": "execute_result"
    }
   ],
   "source": [
    "soup.select('tr > td.titleColumn')[1].a['title']"
   ]
  },
  {
   "cell_type": "code",
   "execution_count": 20,
   "id": "88b64fb2-017b-490f-a50c-7ac7a4249333",
   "metadata": {},
   "outputs": [
    {
     "data": {
      "text/plain": [
       "250"
      ]
     },
     "execution_count": 20,
     "metadata": {},
     "output_type": "execute_result"
    }
   ],
   "source": [
    "len(soup.select('tr > td.titleColumn'))"
   ]
  },
  {
   "cell_type": "code",
   "execution_count": 21,
   "id": "27881825-0923-47cd-8998-df0db920db11",
   "metadata": {},
   "outputs": [
    {
     "data": {
      "text/plain": [
       "'Die Verurteilten'"
      ]
     },
     "execution_count": 21,
     "metadata": {},
     "output_type": "execute_result"
    }
   ],
   "source": [
    "soup.select('tr > td.titleColumn')[0].a.get_text()"
   ]
  },
  {
   "cell_type": "code",
   "execution_count": 22,
   "id": "1b9838a5-6ec2-439b-b1c9-33c74641a07f",
   "metadata": {},
   "outputs": [
    {
     "data": {
      "text/plain": [
       "'(1994)'"
      ]
     },
     "execution_count": 22,
     "metadata": {},
     "output_type": "execute_result"
    }
   ],
   "source": [
    "soup.select('tr > td.titleColumn')[0].span.get_text()"
   ]
  },
  {
   "cell_type": "code",
   "execution_count": 23,
   "id": "ef63bbfe-1a85-4ede-be79-6fe2a33203b9",
   "metadata": {},
   "outputs": [
    {
     "data": {
      "text/plain": [
       "['secondaryInfo']"
      ]
     },
     "execution_count": 23,
     "metadata": {},
     "output_type": "execute_result"
    }
   ],
   "source": [
    "soup.select('tr > td.titleColumn > span')[0]['class']"
   ]
  },
  {
   "cell_type": "code",
   "execution_count": 24,
   "id": "bc6a2a89-0491-44c9-915d-b87cefd1d73d",
   "metadata": {},
   "outputs": [
    {
     "data": {
      "text/plain": [
       "'Frank Darabont (dir.), Tim Robbins, Morgan Freeman'"
      ]
     },
     "execution_count": 24,
     "metadata": {},
     "output_type": "execute_result"
    }
   ],
   "source": [
    "soup.select('tr > td.titleColumn')[0].a['title']"
   ]
  },
  {
   "cell_type": "code",
   "execution_count": 25,
   "id": "8003fab9-0ae0-45c8-b728-e86574aa669a",
   "metadata": {},
   "outputs": [
    {
     "data": {
      "text/plain": [
       "['secondaryInfo']"
      ]
     },
     "execution_count": 25,
     "metadata": {},
     "output_type": "execute_result"
    }
   ],
   "source": [
    "soup.select('tr > td.titleColumn span')[0]['class']"
   ]
  },
  {
   "cell_type": "code",
   "execution_count": 26,
   "id": "ad637e01-d015-45cd-b027-1fcb1d2cce6f",
   "metadata": {},
   "outputs": [
    {
     "name": "stdout",
     "output_type": "stream",
     "text": [
      "['secondaryInfo']\n",
      "['secondaryInfo']\n",
      "['secondaryInfo']\n"
     ]
    }
   ],
   "source": [
    "for idx, k in enumerate(soup.select('tr > td.titleColumn span')[0:3]):\n",
    "    print(soup.select('tr > td.titleColumn span')[idx]['class'])"
   ]
  },
  {
   "cell_type": "code",
   "execution_count": 27,
   "id": "c0614a39-45b5-49b4-b13b-a4a4ae812b38",
   "metadata": {},
   "outputs": [
    {
     "data": {
      "text/plain": [
       "bs4.element.ResultSet"
      ]
     },
     "execution_count": 27,
     "metadata": {},
     "output_type": "execute_result"
    }
   ],
   "source": [
    "type(soup.select('td.titleColumn a'))"
   ]
  },
  {
   "cell_type": "code",
   "execution_count": 28,
   "id": "85c27410-342e-4d6b-806c-3656f5369990",
   "metadata": {},
   "outputs": [
    {
     "data": {
      "text/plain": [
       "bs4.element.Tag"
      ]
     },
     "execution_count": 28,
     "metadata": {},
     "output_type": "execute_result"
    }
   ],
   "source": [
    "type(soup.select('td.titleColumn a')[0])"
   ]
  },
  {
   "cell_type": "code",
   "execution_count": 29,
   "id": "1014d4b4-9206-47f0-a0ad-2ff1175d5cdc",
   "metadata": {},
   "outputs": [],
   "source": [
    "years = []\n",
    "titles = []\n",
    "dirs = []\n",
    "\n",
    "for p in soup.select('tr > td.titleColumn'):\n",
    "    titles.append(p.a.get_text())\n",
    "    years.append(p.span.get_text())\n",
    "    dirs.append(p.a['title'])\n"
   ]
  },
  {
   "cell_type": "code",
   "execution_count": 30,
   "id": "4899c159-2afb-4f9a-868e-189d23bb73d3",
   "metadata": {},
   "outputs": [
    {
     "data": {
      "text/html": [
       "<div>\n",
       "<style scoped>\n",
       "    .dataframe tbody tr th:only-of-type {\n",
       "        vertical-align: middle;\n",
       "    }\n",
       "\n",
       "    .dataframe tbody tr th {\n",
       "        vertical-align: top;\n",
       "    }\n",
       "\n",
       "    .dataframe thead th {\n",
       "        text-align: right;\n",
       "    }\n",
       "</style>\n",
       "<table border=\"1\" class=\"dataframe\">\n",
       "  <thead>\n",
       "    <tr style=\"text-align: right;\">\n",
       "      <th></th>\n",
       "      <th>Years</th>\n",
       "    </tr>\n",
       "  </thead>\n",
       "  <tbody>\n",
       "    <tr>\n",
       "      <th>0</th>\n",
       "      <td>(1994)</td>\n",
       "    </tr>\n",
       "    <tr>\n",
       "      <th>1</th>\n",
       "      <td>(1972)</td>\n",
       "    </tr>\n",
       "    <tr>\n",
       "      <th>2</th>\n",
       "      <td>(2008)</td>\n",
       "    </tr>\n",
       "    <tr>\n",
       "      <th>3</th>\n",
       "      <td>(1974)</td>\n",
       "    </tr>\n",
       "    <tr>\n",
       "      <th>4</th>\n",
       "      <td>(1957)</td>\n",
       "    </tr>\n",
       "    <tr>\n",
       "      <th>...</th>\n",
       "      <td>...</td>\n",
       "    </tr>\n",
       "    <tr>\n",
       "      <th>245</th>\n",
       "      <td>(1975)</td>\n",
       "    </tr>\n",
       "    <tr>\n",
       "      <th>246</th>\n",
       "      <td>(1982)</td>\n",
       "    </tr>\n",
       "    <tr>\n",
       "      <th>247</th>\n",
       "      <td>(2011)</td>\n",
       "    </tr>\n",
       "    <tr>\n",
       "      <th>248</th>\n",
       "      <td>(1992)</td>\n",
       "    </tr>\n",
       "    <tr>\n",
       "      <th>249</th>\n",
       "      <td>(1999)</td>\n",
       "    </tr>\n",
       "  </tbody>\n",
       "</table>\n",
       "<p>250 rows × 1 columns</p>\n",
       "</div>"
      ],
      "text/plain": [
       "      Years\n",
       "0    (1994)\n",
       "1    (1972)\n",
       "2    (2008)\n",
       "3    (1974)\n",
       "4    (1957)\n",
       "..      ...\n",
       "245  (1975)\n",
       "246  (1982)\n",
       "247  (2011)\n",
       "248  (1992)\n",
       "249  (1999)\n",
       "\n",
       "[250 rows x 1 columns]"
      ]
     },
     "execution_count": 30,
     "metadata": {},
     "output_type": "execute_result"
    }
   ],
   "source": [
    "pd.Series(years).to_frame(name='Years')"
   ]
  },
  {
   "cell_type": "code",
   "execution_count": 31,
   "id": "07aea56a-67f9-49a0-bd75-0f3af321e1ed",
   "metadata": {},
   "outputs": [
    {
     "data": {
      "text/html": [
       "<div>\n",
       "<style scoped>\n",
       "    .dataframe tbody tr th:only-of-type {\n",
       "        vertical-align: middle;\n",
       "    }\n",
       "\n",
       "    .dataframe tbody tr th {\n",
       "        vertical-align: top;\n",
       "    }\n",
       "\n",
       "    .dataframe thead th {\n",
       "        text-align: right;\n",
       "    }\n",
       "</style>\n",
       "<table border=\"1\" class=\"dataframe\">\n",
       "  <thead>\n",
       "    <tr style=\"text-align: right;\">\n",
       "      <th></th>\n",
       "      <th>Movie_Title</th>\n",
       "    </tr>\n",
       "  </thead>\n",
       "  <tbody>\n",
       "    <tr>\n",
       "      <th>0</th>\n",
       "      <td>Die Verurteilten</td>\n",
       "    </tr>\n",
       "    <tr>\n",
       "      <th>1</th>\n",
       "      <td>Der Pate</td>\n",
       "    </tr>\n",
       "    <tr>\n",
       "      <th>2</th>\n",
       "      <td>The Dark Knight</td>\n",
       "    </tr>\n",
       "    <tr>\n",
       "      <th>3</th>\n",
       "      <td>Der Pate 2</td>\n",
       "    </tr>\n",
       "    <tr>\n",
       "      <th>4</th>\n",
       "      <td>Die zwölf Geschworenen</td>\n",
       "    </tr>\n",
       "    <tr>\n",
       "      <th>...</th>\n",
       "      <td>...</td>\n",
       "    </tr>\n",
       "    <tr>\n",
       "      <th>245</th>\n",
       "      <td>Uzala, der Kirgise</td>\n",
       "    </tr>\n",
       "    <tr>\n",
       "      <th>246</th>\n",
       "      <td>Gandhi</td>\n",
       "    </tr>\n",
       "    <tr>\n",
       "      <th>247</th>\n",
       "      <td>The Help</td>\n",
       "    </tr>\n",
       "    <tr>\n",
       "      <th>248</th>\n",
       "      <td>Aladdin</td>\n",
       "    </tr>\n",
       "    <tr>\n",
       "      <th>249</th>\n",
       "      <td>Der Gigant aus dem All</td>\n",
       "    </tr>\n",
       "  </tbody>\n",
       "</table>\n",
       "<p>250 rows × 1 columns</p>\n",
       "</div>"
      ],
      "text/plain": [
       "                Movie_Title\n",
       "0          Die Verurteilten\n",
       "1                  Der Pate\n",
       "2           The Dark Knight\n",
       "3                Der Pate 2\n",
       "4    Die zwölf Geschworenen\n",
       "..                      ...\n",
       "245      Uzala, der Kirgise\n",
       "246                  Gandhi\n",
       "247                The Help\n",
       "248                 Aladdin\n",
       "249  Der Gigant aus dem All\n",
       "\n",
       "[250 rows x 1 columns]"
      ]
     },
     "execution_count": 31,
     "metadata": {},
     "output_type": "execute_result"
    }
   ],
   "source": [
    "pd.Series(titles).to_frame(name='Movie_Title')"
   ]
  },
  {
   "cell_type": "code",
   "execution_count": 32,
   "id": "22ed6908-0017-4fd3-a52c-c610645f396b",
   "metadata": {
    "tags": []
   },
   "outputs": [
    {
     "data": {
      "text/html": [
       "<div>\n",
       "<style scoped>\n",
       "    .dataframe tbody tr th:only-of-type {\n",
       "        vertical-align: middle;\n",
       "    }\n",
       "\n",
       "    .dataframe tbody tr th {\n",
       "        vertical-align: top;\n",
       "    }\n",
       "\n",
       "    .dataframe thead th {\n",
       "        text-align: right;\n",
       "    }\n",
       "</style>\n",
       "<table border=\"1\" class=\"dataframe\">\n",
       "  <thead>\n",
       "    <tr style=\"text-align: right;\">\n",
       "      <th></th>\n",
       "      <th>Directors</th>\n",
       "    </tr>\n",
       "  </thead>\n",
       "  <tbody>\n",
       "    <tr>\n",
       "      <th>0</th>\n",
       "      <td>Frank Darabont (dir.), Tim Robbins, Morgan Fre...</td>\n",
       "    </tr>\n",
       "    <tr>\n",
       "      <th>1</th>\n",
       "      <td>Francis Ford Coppola (dir.), Marlon Brando, Al...</td>\n",
       "    </tr>\n",
       "    <tr>\n",
       "      <th>2</th>\n",
       "      <td>Christopher Nolan (dir.), Christian Bale, Heat...</td>\n",
       "    </tr>\n",
       "    <tr>\n",
       "      <th>3</th>\n",
       "      <td>Francis Ford Coppola (dir.), Al Pacino, Robert...</td>\n",
       "    </tr>\n",
       "    <tr>\n",
       "      <th>4</th>\n",
       "      <td>Sidney Lumet (dir.), Henry Fonda, Lee J. Cobb</td>\n",
       "    </tr>\n",
       "    <tr>\n",
       "      <th>...</th>\n",
       "      <td>...</td>\n",
       "    </tr>\n",
       "    <tr>\n",
       "      <th>245</th>\n",
       "      <td>Akira Kurosawa (dir.), Maksim Munzuk, Yuriy So...</td>\n",
       "    </tr>\n",
       "    <tr>\n",
       "      <th>246</th>\n",
       "      <td>Richard Attenborough (dir.), Ben Kingsley, Joh...</td>\n",
       "    </tr>\n",
       "    <tr>\n",
       "      <th>247</th>\n",
       "      <td>Tate Taylor (dir.), Viola Davis, Emma Stone</td>\n",
       "    </tr>\n",
       "    <tr>\n",
       "      <th>248</th>\n",
       "      <td>Ron Clements (dir.), Scott Weinger, Robin Will...</td>\n",
       "    </tr>\n",
       "    <tr>\n",
       "      <th>249</th>\n",
       "      <td>Brad Bird (dir.), Eli Marienthal, Harry Connic...</td>\n",
       "    </tr>\n",
       "  </tbody>\n",
       "</table>\n",
       "<p>250 rows × 1 columns</p>\n",
       "</div>"
      ],
      "text/plain": [
       "                                             Directors\n",
       "0    Frank Darabont (dir.), Tim Robbins, Morgan Fre...\n",
       "1    Francis Ford Coppola (dir.), Marlon Brando, Al...\n",
       "2    Christopher Nolan (dir.), Christian Bale, Heat...\n",
       "3    Francis Ford Coppola (dir.), Al Pacino, Robert...\n",
       "4        Sidney Lumet (dir.), Henry Fonda, Lee J. Cobb\n",
       "..                                                 ...\n",
       "245  Akira Kurosawa (dir.), Maksim Munzuk, Yuriy So...\n",
       "246  Richard Attenborough (dir.), Ben Kingsley, Joh...\n",
       "247        Tate Taylor (dir.), Viola Davis, Emma Stone\n",
       "248  Ron Clements (dir.), Scott Weinger, Robin Will...\n",
       "249  Brad Bird (dir.), Eli Marienthal, Harry Connic...\n",
       "\n",
       "[250 rows x 1 columns]"
      ]
     },
     "execution_count": 32,
     "metadata": {},
     "output_type": "execute_result"
    }
   ],
   "source": [
    "pd.Series(dirs).to_frame(name='Directors')"
   ]
  },
  {
   "cell_type": "code",
   "execution_count": 33,
   "id": "9774c179-6ef3-4f5e-9d62-8d83318b6566",
   "metadata": {},
   "outputs": [],
   "source": [
    "df = pd.DataFrame(\n",
    "    {\"movie_name\": titles,\n",
    "     \"director_stars\": dirs,\n",
    "     \"release_year\": years,\n",
    "     \"rating\":rating\n",
    "    })"
   ]
  },
  {
   "cell_type": "code",
   "execution_count": 34,
   "id": "3dd39a3e-fb99-4246-bd6b-2374cfcdf94b",
   "metadata": {},
   "outputs": [],
   "source": [
    "df.to_csv(\"imdb_top_movies.csv\")"
   ]
  },
  {
   "cell_type": "code",
   "execution_count": 35,
   "id": "4ea827af-7a10-4c23-8cd0-6a8c292ba60f",
   "metadata": {
    "tags": []
   },
   "outputs": [
    {
     "data": {
      "text/html": [
       "<div>\n",
       "<style scoped>\n",
       "    .dataframe tbody tr th:only-of-type {\n",
       "        vertical-align: middle;\n",
       "    }\n",
       "\n",
       "    .dataframe tbody tr th {\n",
       "        vertical-align: top;\n",
       "    }\n",
       "\n",
       "    .dataframe thead th {\n",
       "        text-align: right;\n",
       "    }\n",
       "</style>\n",
       "<table border=\"1\" class=\"dataframe\">\n",
       "  <thead>\n",
       "    <tr style=\"text-align: right;\">\n",
       "      <th></th>\n",
       "      <th>movie_name</th>\n",
       "      <th>director_stars</th>\n",
       "      <th>release_year</th>\n",
       "      <th>rating</th>\n",
       "    </tr>\n",
       "  </thead>\n",
       "  <tbody>\n",
       "    <tr>\n",
       "      <th>0</th>\n",
       "      <td>Die Verurteilten</td>\n",
       "      <td>Frank Darabont (dir.), Tim Robbins, Morgan Fre...</td>\n",
       "      <td>(1994)</td>\n",
       "      <td>9.2</td>\n",
       "    </tr>\n",
       "    <tr>\n",
       "      <th>1</th>\n",
       "      <td>Der Pate</td>\n",
       "      <td>Francis Ford Coppola (dir.), Marlon Brando, Al...</td>\n",
       "      <td>(1972)</td>\n",
       "      <td>9.2</td>\n",
       "    </tr>\n",
       "    <tr>\n",
       "      <th>2</th>\n",
       "      <td>The Dark Knight</td>\n",
       "      <td>Christopher Nolan (dir.), Christian Bale, Heat...</td>\n",
       "      <td>(2008)</td>\n",
       "      <td>9.0</td>\n",
       "    </tr>\n",
       "    <tr>\n",
       "      <th>3</th>\n",
       "      <td>Der Pate 2</td>\n",
       "      <td>Francis Ford Coppola (dir.), Al Pacino, Robert...</td>\n",
       "      <td>(1974)</td>\n",
       "      <td>9.0</td>\n",
       "    </tr>\n",
       "    <tr>\n",
       "      <th>4</th>\n",
       "      <td>Die zwölf Geschworenen</td>\n",
       "      <td>Sidney Lumet (dir.), Henry Fonda, Lee J. Cobb</td>\n",
       "      <td>(1957)</td>\n",
       "      <td>9.0</td>\n",
       "    </tr>\n",
       "    <tr>\n",
       "      <th>...</th>\n",
       "      <td>...</td>\n",
       "      <td>...</td>\n",
       "      <td>...</td>\n",
       "      <td>...</td>\n",
       "    </tr>\n",
       "    <tr>\n",
       "      <th>245</th>\n",
       "      <td>Uzala, der Kirgise</td>\n",
       "      <td>Akira Kurosawa (dir.), Maksim Munzuk, Yuriy So...</td>\n",
       "      <td>(1975)</td>\n",
       "      <td>8.0</td>\n",
       "    </tr>\n",
       "    <tr>\n",
       "      <th>246</th>\n",
       "      <td>Gandhi</td>\n",
       "      <td>Richard Attenborough (dir.), Ben Kingsley, Joh...</td>\n",
       "      <td>(1982)</td>\n",
       "      <td>8.0</td>\n",
       "    </tr>\n",
       "    <tr>\n",
       "      <th>247</th>\n",
       "      <td>The Help</td>\n",
       "      <td>Tate Taylor (dir.), Viola Davis, Emma Stone</td>\n",
       "      <td>(2011)</td>\n",
       "      <td>8.0</td>\n",
       "    </tr>\n",
       "    <tr>\n",
       "      <th>248</th>\n",
       "      <td>Aladdin</td>\n",
       "      <td>Ron Clements (dir.), Scott Weinger, Robin Will...</td>\n",
       "      <td>(1992)</td>\n",
       "      <td>8.0</td>\n",
       "    </tr>\n",
       "    <tr>\n",
       "      <th>249</th>\n",
       "      <td>Der Gigant aus dem All</td>\n",
       "      <td>Brad Bird (dir.), Eli Marienthal, Harry Connic...</td>\n",
       "      <td>(1999)</td>\n",
       "      <td>8.0</td>\n",
       "    </tr>\n",
       "  </tbody>\n",
       "</table>\n",
       "<p>250 rows × 4 columns</p>\n",
       "</div>"
      ],
      "text/plain": [
       "                 movie_name  \\\n",
       "0          Die Verurteilten   \n",
       "1                  Der Pate   \n",
       "2           The Dark Knight   \n",
       "3                Der Pate 2   \n",
       "4    Die zwölf Geschworenen   \n",
       "..                      ...   \n",
       "245      Uzala, der Kirgise   \n",
       "246                  Gandhi   \n",
       "247                The Help   \n",
       "248                 Aladdin   \n",
       "249  Der Gigant aus dem All   \n",
       "\n",
       "                                        director_stars release_year rating  \n",
       "0    Frank Darabont (dir.), Tim Robbins, Morgan Fre...       (1994)    9.2  \n",
       "1    Francis Ford Coppola (dir.), Marlon Brando, Al...       (1972)    9.2  \n",
       "2    Christopher Nolan (dir.), Christian Bale, Heat...       (2008)    9.0  \n",
       "3    Francis Ford Coppola (dir.), Al Pacino, Robert...       (1974)    9.0  \n",
       "4        Sidney Lumet (dir.), Henry Fonda, Lee J. Cobb       (1957)    9.0  \n",
       "..                                                 ...          ...    ...  \n",
       "245  Akira Kurosawa (dir.), Maksim Munzuk, Yuriy So...       (1975)    8.0  \n",
       "246  Richard Attenborough (dir.), Ben Kingsley, Joh...       (1982)    8.0  \n",
       "247        Tate Taylor (dir.), Viola Davis, Emma Stone       (2011)    8.0  \n",
       "248  Ron Clements (dir.), Scott Weinger, Robin Will...       (1992)    8.0  \n",
       "249  Brad Bird (dir.), Eli Marienthal, Harry Connic...       (1999)    8.0  \n",
       "\n",
       "[250 rows x 4 columns]"
      ]
     },
     "execution_count": 35,
     "metadata": {},
     "output_type": "execute_result"
    }
   ],
   "source": [
    "df"
   ]
  },
  {
   "cell_type": "code",
   "execution_count": 36,
   "id": "443d47f2-0f5c-46eb-94ed-d3b81ffe3fa3",
   "metadata": {},
   "outputs": [
    {
     "data": {
      "text/plain": [
       "<a href=\"/title/tt0111161/\" title=\"Frank Darabont (dir.), Tim Robbins, Morgan Freeman\">Die Verurteilten</a>"
      ]
     },
     "execution_count": 36,
     "metadata": {},
     "output_type": "execute_result"
    }
   ],
   "source": [
    "soup.select('td.titleColumn a')[0] # dot notation to access the child and square brackets notations to access attr"
   ]
  },
  {
   "cell_type": "code",
   "execution_count": 37,
   "id": "6627f862-b1e0-4bbb-be06-acdbe9e3d885",
   "metadata": {},
   "outputs": [
    {
     "data": {
      "text/plain": [
       "'Frank Darabont (dir.), Tim Robbins, Morgan Freeman'"
      ]
     },
     "execution_count": 37,
     "metadata": {},
     "output_type": "execute_result"
    }
   ],
   "source": [
    "soup.select('td.titleColumn a')[0]['title']"
   ]
  },
  {
   "cell_type": "code",
   "execution_count": 38,
   "id": "a666b783-ded6-41e2-b880-f5fbaaa8a557",
   "metadata": {
    "colab": {
     "base_uri": "https://localhost:8080/"
    },
    "id": "iNs9Sa_C4r2u",
    "outputId": "d67253f1-1e4c-46e5-e836-4c96d9a24fec",
    "tags": []
   },
   "outputs": [],
   "source": [
    "# soup.select(\"td.titleColumn\") # all the info about all the movies"
   ]
  },
  {
   "cell_type": "code",
   "execution_count": 39,
   "id": "56674be5-7002-4fee-9049-92c4713b57c5",
   "metadata": {
    "colab": {
     "base_uri": "https://localhost:8080/"
    },
    "id": "XaJ7_YGD4r2u",
    "outputId": "1c89001e-89b2-4dbc-fb12-98f220fc4dc1",
    "tags": []
   },
   "outputs": [],
   "source": [
    "# soup.select(\"td.titleColumn a\") # all elements containing movie titles"
   ]
  },
  {
   "cell_type": "code",
   "execution_count": 40,
   "id": "20ceb688-8a7c-417a-abab-1aebbbb72fa3",
   "metadata": {
    "colab": {
     "base_uri": "https://localhost:8080/",
     "height": 35
    },
    "id": "0SaqchYg4r2u",
    "outputId": "ffb14d25-1683-41e8-91fc-760b01dc870a"
   },
   "outputs": [
    {
     "data": {
      "text/plain": [
       "<a href=\"/title/tt0111161/\" title=\"Frank Darabont (dir.), Tim Robbins, Morgan Freeman\">Die Verurteilten</a>"
      ]
     },
     "execution_count": 40,
     "metadata": {},
     "output_type": "execute_result"
    }
   ],
   "source": [
    "# we can use .get_text() to extract the content of the tags we selected\n",
    "# we'll need to do it to each tag with a for loop: here we do it to the first one\n",
    "soup.select(\"td.titleColumn a\")[0]\n",
    "#soup.select(\"td.titleColumn a\")[0].get_text()"
   ]
  },
  {
   "cell_type": "code",
   "execution_count": 41,
   "id": "a0386496-a03f-4b30-8497-5cf274959f1b",
   "metadata": {
    "colab": {
     "base_uri": "https://localhost:8080/",
     "height": 35
    },
    "id": "bHl_kNI54r2u",
    "outputId": "cb900bd9-e23a-4ef1-9732-e37a73d68386"
   },
   "outputs": [
    {
     "data": {
      "text/plain": [
       "'Frank Darabont (dir.), Tim Robbins, Morgan Freeman'"
      ]
     },
     "execution_count": 41,
     "metadata": {},
     "output_type": "execute_result"
    }
   ],
   "source": [
    "# the director and main stars are in the same tag, but as a value of the attribute \"title\"\n",
    "# we can access attributes as key-value pairs of dictionaries: using [\"key\"] to get the value:\n",
    "soup.select(\"td.titleColumn > a\")[0][\"title\"] \n",
    "\n",
    "# instead of [\"title\"] we could use .get(\"title\"): choose whatever you prefer"
   ]
  },
  {
   "cell_type": "code",
   "execution_count": 42,
   "id": "83c08029-4acd-4084-9182-969da0ad6f66",
   "metadata": {
    "colab": {
     "base_uri": "https://localhost:8080/",
     "height": 35
    },
    "id": "t7mtG39n4r2u",
    "outputId": "a91ab16a-5a9c-4270-fc7f-476c60fa5fc6"
   },
   "outputs": [
    {
     "data": {
      "text/plain": [
       "'(1994)'"
      ]
     },
     "execution_count": 42,
     "metadata": {},
     "output_type": "execute_result"
    }
   ],
   "source": [
    "# the years are inside a 'span' tag with the 'secondaryInfo' class\n",
    "# we also specify the parent tag and its class, which is the same we used before\n",
    "# the years are inside parentheses, but we'll take care of that later\n",
    "soup.select(\"td.titleColumn span.secondaryInfo\")[0].get_text()"
   ]
  },
  {
   "cell_type": "markdown",
   "id": "a5984bcf-7d95-438e-9114-18eff03a5dbd",
   "metadata": {
    "id": "wm6Vde3w4r2u"
   },
   "source": [
    "### Storing information in lists"
   ]
  },
  {
   "cell_type": "code",
   "execution_count": 43,
   "id": "523c6b47-959c-4f01-8f04-260ca2d403f9",
   "metadata": {
    "id": "6VFUIuy74r2u"
   },
   "outputs": [],
   "source": [
    "#initialize empty lists\n",
    "title = []\n",
    "dir_stars = []\n",
    "year = []"
   ]
  },
  {
   "cell_type": "code",
   "execution_count": 44,
   "id": "5a4b150b-8dd2-4c96-9cbf-91987b9e9e5c",
   "metadata": {
    "id": "z3p2BuUr4r2u"
   },
   "outputs": [
    {
     "data": {
      "text/plain": [
       "250"
      ]
     },
     "execution_count": 44,
     "metadata": {},
     "output_type": "execute_result"
    }
   ],
   "source": [
    "# define the number of iterations of our for loop \n",
    "# by checking how many elements are in the retrieved result set\n",
    "# (this is equivalent but more robust than just explicitly defining 250 iterations)\n",
    "num_iter = len(soup.select(\"td.titleColumn a\"))\n",
    "num_iter"
   ]
  },
  {
   "cell_type": "code",
   "execution_count": 45,
   "id": "461817ed-cb86-4615-a16d-06162ed43881",
   "metadata": {
    "id": "3R0MAVxO4r2v",
    "tags": []
   },
   "outputs": [],
   "source": [
    "table = soup.select(\"tbody > tr\")"
   ]
  },
  {
   "cell_type": "code",
   "execution_count": 46,
   "id": "f3c65aed-4ac3-400d-a0fb-de3229e39a2d",
   "metadata": {},
   "outputs": [
    {
     "data": {
      "text/plain": [
       "250"
      ]
     },
     "execution_count": 46,
     "metadata": {},
     "output_type": "execute_result"
    }
   ],
   "source": [
    "len(table)"
   ]
  },
  {
   "cell_type": "code",
   "execution_count": 47,
   "id": "e9b0ac75-a403-4f0c-a5cc-adc334e8e2b9",
   "metadata": {
    "colab": {
     "base_uri": "https://localhost:8080/"
    },
    "id": "9DBY7I1q4r2v",
    "outputId": "9c191506-7a75-49dc-dbc4-1ac31dd72355"
   },
   "outputs": [
    {
     "data": {
      "text/plain": [
       "[<a href=\"/title/tt0468569/\" title=\"Christopher Nolan (dir.), Christian Bale, Heath Ledger\">The Dark Knight</a>]"
      ]
     },
     "execution_count": 47,
     "metadata": {},
     "output_type": "execute_result"
    }
   ],
   "source": [
    "table[2].select(\"td.titleColumn a\")"
   ]
  },
  {
   "cell_type": "code",
   "execution_count": 48,
   "id": "e320db36-9e13-4ac8-a920-77dafa284aa7",
   "metadata": {},
   "outputs": [],
   "source": [
    "for p in soup.select('tr > td.titleColumn'):\n",
    "    titles.append(p.a.get_text())\n",
    "    years.append(p.span.get_text())\n",
    "    dirs.append(p.a['title'])"
   ]
  },
  {
   "cell_type": "code",
   "execution_count": 49,
   "id": "83e554fc-2d2f-4913-94e3-3d774bb0e054",
   "metadata": {
    "id": "hOBJeAnB4r2v"
   },
   "outputs": [],
   "source": [
    "# iterate through the result set and retrive all the data\n",
    "for i in range(num_iter):\n",
    "    title.append(soup.select(\"td.titleColumn a\")[i].get_text())\n",
    "    dir_stars.append(soup.select(\"td.titleColumn a\")[i][\"title\"])\n",
    "    year.append(soup.select(\"td.titleColumn span.secondaryInfo\")[i].get_text())"
   ]
  },
  {
   "cell_type": "code",
   "execution_count": 50,
   "id": "a19bf9b5-9a08-4a61-b48d-6dab882ad6ed",
   "metadata": {
    "id": "YWMGyxPC4r2v"
   },
   "outputs": [],
   "source": [
    "assert len(title) == len(dir_stars) == len(year)"
   ]
  },
  {
   "cell_type": "markdown",
   "id": "ab48dfec-b092-4bfc-b841-c54fa401725b",
   "metadata": {
    "id": "IVVe6cFW4r2v"
   },
   "source": [
    "### Storing information in pandas DataFrames"
   ]
  },
  {
   "cell_type": "code",
   "execution_count": 51,
   "id": "b1869f6b-2496-4811-9e51-4c693a04ef2a",
   "metadata": {
    "id": "DDRNFZd74r2v"
   },
   "outputs": [],
   "source": [
    "movies_df = pd.DataFrame(\n",
    "    {\"movie_name\": title,\n",
    "     \"director_stars\": dir_stars,\n",
    "     \"release_year\": year\n",
    "    }\n",
    ")"
   ]
  },
  {
   "cell_type": "code",
   "execution_count": 52,
   "id": "551c9cfc-bf17-4e20-af95-76bf44828ca0",
   "metadata": {
    "colab": {
     "base_uri": "https://localhost:8080/",
     "height": 206
    },
    "id": "EeMxyyvT4r2v",
    "outputId": "1ea77e28-fe77-4600-e3ca-859a99d2c34a",
    "tags": []
   },
   "outputs": [
    {
     "data": {
      "text/html": [
       "<div>\n",
       "<style scoped>\n",
       "    .dataframe tbody tr th:only-of-type {\n",
       "        vertical-align: middle;\n",
       "    }\n",
       "\n",
       "    .dataframe tbody tr th {\n",
       "        vertical-align: top;\n",
       "    }\n",
       "\n",
       "    .dataframe thead th {\n",
       "        text-align: right;\n",
       "    }\n",
       "</style>\n",
       "<table border=\"1\" class=\"dataframe\">\n",
       "  <thead>\n",
       "    <tr style=\"text-align: right;\">\n",
       "      <th></th>\n",
       "      <th>movie_name</th>\n",
       "      <th>director_stars</th>\n",
       "      <th>release_year</th>\n",
       "    </tr>\n",
       "  </thead>\n",
       "  <tbody>\n",
       "    <tr>\n",
       "      <th>0</th>\n",
       "      <td>Die Verurteilten</td>\n",
       "      <td>Frank Darabont (dir.), Tim Robbins, Morgan Fre...</td>\n",
       "      <td>(1994)</td>\n",
       "    </tr>\n",
       "    <tr>\n",
       "      <th>1</th>\n",
       "      <td>Der Pate</td>\n",
       "      <td>Francis Ford Coppola (dir.), Marlon Brando, Al...</td>\n",
       "      <td>(1972)</td>\n",
       "    </tr>\n",
       "    <tr>\n",
       "      <th>2</th>\n",
       "      <td>The Dark Knight</td>\n",
       "      <td>Christopher Nolan (dir.), Christian Bale, Heat...</td>\n",
       "      <td>(2008)</td>\n",
       "    </tr>\n",
       "    <tr>\n",
       "      <th>3</th>\n",
       "      <td>Der Pate 2</td>\n",
       "      <td>Francis Ford Coppola (dir.), Al Pacino, Robert...</td>\n",
       "      <td>(1974)</td>\n",
       "    </tr>\n",
       "    <tr>\n",
       "      <th>4</th>\n",
       "      <td>Die zwölf Geschworenen</td>\n",
       "      <td>Sidney Lumet (dir.), Henry Fonda, Lee J. Cobb</td>\n",
       "      <td>(1957)</td>\n",
       "    </tr>\n",
       "  </tbody>\n",
       "</table>\n",
       "</div>"
      ],
      "text/plain": [
       "               movie_name                                     director_stars  \\\n",
       "0        Die Verurteilten  Frank Darabont (dir.), Tim Robbins, Morgan Fre...   \n",
       "1                Der Pate  Francis Ford Coppola (dir.), Marlon Brando, Al...   \n",
       "2         The Dark Knight  Christopher Nolan (dir.), Christian Bale, Heat...   \n",
       "3              Der Pate 2  Francis Ford Coppola (dir.), Al Pacino, Robert...   \n",
       "4  Die zwölf Geschworenen      Sidney Lumet (dir.), Henry Fonda, Lee J. Cobb   \n",
       "\n",
       "  release_year  \n",
       "0       (1994)  \n",
       "1       (1972)  \n",
       "2       (2008)  \n",
       "3       (1974)  \n",
       "4       (1957)  "
      ]
     },
     "execution_count": 52,
     "metadata": {},
     "output_type": "execute_result"
    }
   ],
   "source": [
    "movies_df.head()"
   ]
  },
  {
   "cell_type": "markdown",
   "id": "f64c9f74-5c23-43eb-a419-00b1de274065",
   "metadata": {
    "id": "FGmptQx54r2v"
   },
   "source": [
    "#### **Challenge: Cleaning the data**"
   ]
  },
  {
   "cell_type": "code",
   "execution_count": 53,
   "id": "ae8d9354-8018-4a6e-9c6b-38ba9877c014",
   "metadata": {
    "id": "FbFpMWQw4r2w"
   },
   "outputs": [],
   "source": [
    "movies1 = movies_df"
   ]
  },
  {
   "cell_type": "code",
   "execution_count": 54,
   "id": "5bbb9605-159d-48ae-a2f0-a6aba64cc8ce",
   "metadata": {},
   "outputs": [
    {
     "data": {
      "text/plain": [
       "movie_name        object\n",
       "director_stars    object\n",
       "release_year      object\n",
       "dtype: object"
      ]
     },
     "execution_count": 54,
     "metadata": {},
     "output_type": "execute_result"
    }
   ],
   "source": [
    "movies1.dtypes"
   ]
  },
  {
   "cell_type": "code",
   "execution_count": 55,
   "id": "5a60beb0-c9ce-4936-819d-23aba301c503",
   "metadata": {
    "id": "YzJGcKo_4r2w"
   },
   "outputs": [
    {
     "name": "stderr",
     "output_type": "stream",
     "text": [
      "C:\\Users\\Privat\\AppData\\Local\\Temp\\ipykernel_21264\\746436023.py:1: FutureWarning: The default value of regex will change from True to False in a future version. In addition, single character regular expressions will *not* be treated as literal strings when regex=True.\n",
      "  movies1['release_year_cleaning'] = movies1['release_year'].str.replace('(','')\n"
     ]
    }
   ],
   "source": [
    "movies1['release_year_cleaning'] = movies1['release_year'].str.replace('(','') "
   ]
  },
  {
   "cell_type": "code",
   "execution_count": 56,
   "id": "fe5e5126-0595-4aa0-a3ec-68abd2894ec6",
   "metadata": {
    "tags": []
   },
   "outputs": [
    {
     "data": {
      "text/html": [
       "<div>\n",
       "<style scoped>\n",
       "    .dataframe tbody tr th:only-of-type {\n",
       "        vertical-align: middle;\n",
       "    }\n",
       "\n",
       "    .dataframe tbody tr th {\n",
       "        vertical-align: top;\n",
       "    }\n",
       "\n",
       "    .dataframe thead th {\n",
       "        text-align: right;\n",
       "    }\n",
       "</style>\n",
       "<table border=\"1\" class=\"dataframe\">\n",
       "  <thead>\n",
       "    <tr style=\"text-align: right;\">\n",
       "      <th></th>\n",
       "      <th>movie_name</th>\n",
       "      <th>director_stars</th>\n",
       "      <th>release_year</th>\n",
       "      <th>release_year_cleaning</th>\n",
       "    </tr>\n",
       "  </thead>\n",
       "  <tbody>\n",
       "    <tr>\n",
       "      <th>0</th>\n",
       "      <td>Die Verurteilten</td>\n",
       "      <td>Frank Darabont (dir.), Tim Robbins, Morgan Fre...</td>\n",
       "      <td>(1994)</td>\n",
       "      <td>1994)</td>\n",
       "    </tr>\n",
       "    <tr>\n",
       "      <th>1</th>\n",
       "      <td>Der Pate</td>\n",
       "      <td>Francis Ford Coppola (dir.), Marlon Brando, Al...</td>\n",
       "      <td>(1972)</td>\n",
       "      <td>1972)</td>\n",
       "    </tr>\n",
       "    <tr>\n",
       "      <th>2</th>\n",
       "      <td>The Dark Knight</td>\n",
       "      <td>Christopher Nolan (dir.), Christian Bale, Heat...</td>\n",
       "      <td>(2008)</td>\n",
       "      <td>2008)</td>\n",
       "    </tr>\n",
       "    <tr>\n",
       "      <th>3</th>\n",
       "      <td>Der Pate 2</td>\n",
       "      <td>Francis Ford Coppola (dir.), Al Pacino, Robert...</td>\n",
       "      <td>(1974)</td>\n",
       "      <td>1974)</td>\n",
       "    </tr>\n",
       "    <tr>\n",
       "      <th>4</th>\n",
       "      <td>Die zwölf Geschworenen</td>\n",
       "      <td>Sidney Lumet (dir.), Henry Fonda, Lee J. Cobb</td>\n",
       "      <td>(1957)</td>\n",
       "      <td>1957)</td>\n",
       "    </tr>\n",
       "    <tr>\n",
       "      <th>...</th>\n",
       "      <td>...</td>\n",
       "      <td>...</td>\n",
       "      <td>...</td>\n",
       "      <td>...</td>\n",
       "    </tr>\n",
       "    <tr>\n",
       "      <th>245</th>\n",
       "      <td>Uzala, der Kirgise</td>\n",
       "      <td>Akira Kurosawa (dir.), Maksim Munzuk, Yuriy So...</td>\n",
       "      <td>(1975)</td>\n",
       "      <td>1975)</td>\n",
       "    </tr>\n",
       "    <tr>\n",
       "      <th>246</th>\n",
       "      <td>Gandhi</td>\n",
       "      <td>Richard Attenborough (dir.), Ben Kingsley, Joh...</td>\n",
       "      <td>(1982)</td>\n",
       "      <td>1982)</td>\n",
       "    </tr>\n",
       "    <tr>\n",
       "      <th>247</th>\n",
       "      <td>The Help</td>\n",
       "      <td>Tate Taylor (dir.), Viola Davis, Emma Stone</td>\n",
       "      <td>(2011)</td>\n",
       "      <td>2011)</td>\n",
       "    </tr>\n",
       "    <tr>\n",
       "      <th>248</th>\n",
       "      <td>Aladdin</td>\n",
       "      <td>Ron Clements (dir.), Scott Weinger, Robin Will...</td>\n",
       "      <td>(1992)</td>\n",
       "      <td>1992)</td>\n",
       "    </tr>\n",
       "    <tr>\n",
       "      <th>249</th>\n",
       "      <td>Der Gigant aus dem All</td>\n",
       "      <td>Brad Bird (dir.), Eli Marienthal, Harry Connic...</td>\n",
       "      <td>(1999)</td>\n",
       "      <td>1999)</td>\n",
       "    </tr>\n",
       "  </tbody>\n",
       "</table>\n",
       "<p>250 rows × 4 columns</p>\n",
       "</div>"
      ],
      "text/plain": [
       "                 movie_name  \\\n",
       "0          Die Verurteilten   \n",
       "1                  Der Pate   \n",
       "2           The Dark Knight   \n",
       "3                Der Pate 2   \n",
       "4    Die zwölf Geschworenen   \n",
       "..                      ...   \n",
       "245      Uzala, der Kirgise   \n",
       "246                  Gandhi   \n",
       "247                The Help   \n",
       "248                 Aladdin   \n",
       "249  Der Gigant aus dem All   \n",
       "\n",
       "                                        director_stars release_year  \\\n",
       "0    Frank Darabont (dir.), Tim Robbins, Morgan Fre...       (1994)   \n",
       "1    Francis Ford Coppola (dir.), Marlon Brando, Al...       (1972)   \n",
       "2    Christopher Nolan (dir.), Christian Bale, Heat...       (2008)   \n",
       "3    Francis Ford Coppola (dir.), Al Pacino, Robert...       (1974)   \n",
       "4        Sidney Lumet (dir.), Henry Fonda, Lee J. Cobb       (1957)   \n",
       "..                                                 ...          ...   \n",
       "245  Akira Kurosawa (dir.), Maksim Munzuk, Yuriy So...       (1975)   \n",
       "246  Richard Attenborough (dir.), Ben Kingsley, Joh...       (1982)   \n",
       "247        Tate Taylor (dir.), Viola Davis, Emma Stone       (2011)   \n",
       "248  Ron Clements (dir.), Scott Weinger, Robin Will...       (1992)   \n",
       "249  Brad Bird (dir.), Eli Marienthal, Harry Connic...       (1999)   \n",
       "\n",
       "    release_year_cleaning  \n",
       "0                   1994)  \n",
       "1                   1972)  \n",
       "2                   2008)  \n",
       "3                   1974)  \n",
       "4                   1957)  \n",
       "..                    ...  \n",
       "245                 1975)  \n",
       "246                 1982)  \n",
       "247                 2011)  \n",
       "248                 1992)  \n",
       "249                 1999)  \n",
       "\n",
       "[250 rows x 4 columns]"
      ]
     },
     "execution_count": 56,
     "metadata": {},
     "output_type": "execute_result"
    }
   ],
   "source": [
    "movies1"
   ]
  },
  {
   "cell_type": "code",
   "execution_count": 57,
   "id": "87f9bc54-6ca2-4a2a-aaa1-fb6a60fc7eda",
   "metadata": {},
   "outputs": [
    {
     "name": "stderr",
     "output_type": "stream",
     "text": [
      "C:\\Users\\Privat\\AppData\\Local\\Temp\\ipykernel_21264\\3369406480.py:1: FutureWarning: The default value of regex will change from True to False in a future version. In addition, single character regular expressions will *not* be treated as literal strings when regex=True.\n",
      "  movies1['release_year'] = movies1['release_year_cleaning'].str.replace(')','')\n"
     ]
    }
   ],
   "source": [
    "movies1['release_year'] = movies1['release_year_cleaning'].str.replace(')','') "
   ]
  },
  {
   "cell_type": "code",
   "execution_count": 58,
   "id": "693052ba-8b35-4220-9b8e-b23b9294548d",
   "metadata": {
    "tags": []
   },
   "outputs": [
    {
     "data": {
      "text/html": [
       "<div>\n",
       "<style scoped>\n",
       "    .dataframe tbody tr th:only-of-type {\n",
       "        vertical-align: middle;\n",
       "    }\n",
       "\n",
       "    .dataframe tbody tr th {\n",
       "        vertical-align: top;\n",
       "    }\n",
       "\n",
       "    .dataframe thead th {\n",
       "        text-align: right;\n",
       "    }\n",
       "</style>\n",
       "<table border=\"1\" class=\"dataframe\">\n",
       "  <thead>\n",
       "    <tr style=\"text-align: right;\">\n",
       "      <th></th>\n",
       "      <th>movie_name</th>\n",
       "      <th>director_stars</th>\n",
       "      <th>release_year</th>\n",
       "      <th>release_year_cleaning</th>\n",
       "    </tr>\n",
       "  </thead>\n",
       "  <tbody>\n",
       "    <tr>\n",
       "      <th>0</th>\n",
       "      <td>Die Verurteilten</td>\n",
       "      <td>Frank Darabont (dir.), Tim Robbins, Morgan Fre...</td>\n",
       "      <td>1994</td>\n",
       "      <td>1994)</td>\n",
       "    </tr>\n",
       "    <tr>\n",
       "      <th>1</th>\n",
       "      <td>Der Pate</td>\n",
       "      <td>Francis Ford Coppola (dir.), Marlon Brando, Al...</td>\n",
       "      <td>1972</td>\n",
       "      <td>1972)</td>\n",
       "    </tr>\n",
       "    <tr>\n",
       "      <th>2</th>\n",
       "      <td>The Dark Knight</td>\n",
       "      <td>Christopher Nolan (dir.), Christian Bale, Heat...</td>\n",
       "      <td>2008</td>\n",
       "      <td>2008)</td>\n",
       "    </tr>\n",
       "    <tr>\n",
       "      <th>3</th>\n",
       "      <td>Der Pate 2</td>\n",
       "      <td>Francis Ford Coppola (dir.), Al Pacino, Robert...</td>\n",
       "      <td>1974</td>\n",
       "      <td>1974)</td>\n",
       "    </tr>\n",
       "    <tr>\n",
       "      <th>4</th>\n",
       "      <td>Die zwölf Geschworenen</td>\n",
       "      <td>Sidney Lumet (dir.), Henry Fonda, Lee J. Cobb</td>\n",
       "      <td>1957</td>\n",
       "      <td>1957)</td>\n",
       "    </tr>\n",
       "    <tr>\n",
       "      <th>...</th>\n",
       "      <td>...</td>\n",
       "      <td>...</td>\n",
       "      <td>...</td>\n",
       "      <td>...</td>\n",
       "    </tr>\n",
       "    <tr>\n",
       "      <th>245</th>\n",
       "      <td>Uzala, der Kirgise</td>\n",
       "      <td>Akira Kurosawa (dir.), Maksim Munzuk, Yuriy So...</td>\n",
       "      <td>1975</td>\n",
       "      <td>1975)</td>\n",
       "    </tr>\n",
       "    <tr>\n",
       "      <th>246</th>\n",
       "      <td>Gandhi</td>\n",
       "      <td>Richard Attenborough (dir.), Ben Kingsley, Joh...</td>\n",
       "      <td>1982</td>\n",
       "      <td>1982)</td>\n",
       "    </tr>\n",
       "    <tr>\n",
       "      <th>247</th>\n",
       "      <td>The Help</td>\n",
       "      <td>Tate Taylor (dir.), Viola Davis, Emma Stone</td>\n",
       "      <td>2011</td>\n",
       "      <td>2011)</td>\n",
       "    </tr>\n",
       "    <tr>\n",
       "      <th>248</th>\n",
       "      <td>Aladdin</td>\n",
       "      <td>Ron Clements (dir.), Scott Weinger, Robin Will...</td>\n",
       "      <td>1992</td>\n",
       "      <td>1992)</td>\n",
       "    </tr>\n",
       "    <tr>\n",
       "      <th>249</th>\n",
       "      <td>Der Gigant aus dem All</td>\n",
       "      <td>Brad Bird (dir.), Eli Marienthal, Harry Connic...</td>\n",
       "      <td>1999</td>\n",
       "      <td>1999)</td>\n",
       "    </tr>\n",
       "  </tbody>\n",
       "</table>\n",
       "<p>250 rows × 4 columns</p>\n",
       "</div>"
      ],
      "text/plain": [
       "                 movie_name  \\\n",
       "0          Die Verurteilten   \n",
       "1                  Der Pate   \n",
       "2           The Dark Knight   \n",
       "3                Der Pate 2   \n",
       "4    Die zwölf Geschworenen   \n",
       "..                      ...   \n",
       "245      Uzala, der Kirgise   \n",
       "246                  Gandhi   \n",
       "247                The Help   \n",
       "248                 Aladdin   \n",
       "249  Der Gigant aus dem All   \n",
       "\n",
       "                                        director_stars release_year  \\\n",
       "0    Frank Darabont (dir.), Tim Robbins, Morgan Fre...         1994   \n",
       "1    Francis Ford Coppola (dir.), Marlon Brando, Al...         1972   \n",
       "2    Christopher Nolan (dir.), Christian Bale, Heat...         2008   \n",
       "3    Francis Ford Coppola (dir.), Al Pacino, Robert...         1974   \n",
       "4        Sidney Lumet (dir.), Henry Fonda, Lee J. Cobb         1957   \n",
       "..                                                 ...          ...   \n",
       "245  Akira Kurosawa (dir.), Maksim Munzuk, Yuriy So...         1975   \n",
       "246  Richard Attenborough (dir.), Ben Kingsley, Joh...         1982   \n",
       "247        Tate Taylor (dir.), Viola Davis, Emma Stone         2011   \n",
       "248  Ron Clements (dir.), Scott Weinger, Robin Will...         1992   \n",
       "249  Brad Bird (dir.), Eli Marienthal, Harry Connic...         1999   \n",
       "\n",
       "    release_year_cleaning  \n",
       "0                   1994)  \n",
       "1                   1972)  \n",
       "2                   2008)  \n",
       "3                   1974)  \n",
       "4                   1957)  \n",
       "..                    ...  \n",
       "245                 1975)  \n",
       "246                 1982)  \n",
       "247                 2011)  \n",
       "248                 1992)  \n",
       "249                 1999)  \n",
       "\n",
       "[250 rows x 4 columns]"
      ]
     },
     "execution_count": 58,
     "metadata": {},
     "output_type": "execute_result"
    }
   ],
   "source": [
    "movies1"
   ]
  },
  {
   "cell_type": "code",
   "execution_count": 59,
   "id": "c62fe56d-a87c-4bc3-a076-756d233a8791",
   "metadata": {},
   "outputs": [],
   "source": [
    "movies1.drop(['release_year_cleaning'], axis=1, inplace=True)"
   ]
  },
  {
   "cell_type": "code",
   "execution_count": 60,
   "id": "2da58881-2220-4a71-a98e-1b1d76869fc3",
   "metadata": {},
   "outputs": [],
   "source": [
    "movies1['release_year'] = movies1['release_year'].astype(int)"
   ]
  },
  {
   "cell_type": "code",
   "execution_count": 61,
   "id": "8ebdd658-4030-4a54-8b4a-793f8b713321",
   "metadata": {
    "tags": []
   },
   "outputs": [
    {
     "data": {
      "text/html": [
       "<div>\n",
       "<style scoped>\n",
       "    .dataframe tbody tr th:only-of-type {\n",
       "        vertical-align: middle;\n",
       "    }\n",
       "\n",
       "    .dataframe tbody tr th {\n",
       "        vertical-align: top;\n",
       "    }\n",
       "\n",
       "    .dataframe thead th {\n",
       "        text-align: right;\n",
       "    }\n",
       "</style>\n",
       "<table border=\"1\" class=\"dataframe\">\n",
       "  <thead>\n",
       "    <tr style=\"text-align: right;\">\n",
       "      <th></th>\n",
       "      <th>movie_name</th>\n",
       "      <th>director_stars</th>\n",
       "      <th>release_year</th>\n",
       "    </tr>\n",
       "  </thead>\n",
       "  <tbody>\n",
       "    <tr>\n",
       "      <th>0</th>\n",
       "      <td>Die Verurteilten</td>\n",
       "      <td>Frank Darabont (dir.), Tim Robbins, Morgan Fre...</td>\n",
       "      <td>1994</td>\n",
       "    </tr>\n",
       "    <tr>\n",
       "      <th>1</th>\n",
       "      <td>Der Pate</td>\n",
       "      <td>Francis Ford Coppola (dir.), Marlon Brando, Al...</td>\n",
       "      <td>1972</td>\n",
       "    </tr>\n",
       "    <tr>\n",
       "      <th>2</th>\n",
       "      <td>The Dark Knight</td>\n",
       "      <td>Christopher Nolan (dir.), Christian Bale, Heat...</td>\n",
       "      <td>2008</td>\n",
       "    </tr>\n",
       "    <tr>\n",
       "      <th>3</th>\n",
       "      <td>Der Pate 2</td>\n",
       "      <td>Francis Ford Coppola (dir.), Al Pacino, Robert...</td>\n",
       "      <td>1974</td>\n",
       "    </tr>\n",
       "    <tr>\n",
       "      <th>4</th>\n",
       "      <td>Die zwölf Geschworenen</td>\n",
       "      <td>Sidney Lumet (dir.), Henry Fonda, Lee J. Cobb</td>\n",
       "      <td>1957</td>\n",
       "    </tr>\n",
       "    <tr>\n",
       "      <th>...</th>\n",
       "      <td>...</td>\n",
       "      <td>...</td>\n",
       "      <td>...</td>\n",
       "    </tr>\n",
       "    <tr>\n",
       "      <th>245</th>\n",
       "      <td>Uzala, der Kirgise</td>\n",
       "      <td>Akira Kurosawa (dir.), Maksim Munzuk, Yuriy So...</td>\n",
       "      <td>1975</td>\n",
       "    </tr>\n",
       "    <tr>\n",
       "      <th>246</th>\n",
       "      <td>Gandhi</td>\n",
       "      <td>Richard Attenborough (dir.), Ben Kingsley, Joh...</td>\n",
       "      <td>1982</td>\n",
       "    </tr>\n",
       "    <tr>\n",
       "      <th>247</th>\n",
       "      <td>The Help</td>\n",
       "      <td>Tate Taylor (dir.), Viola Davis, Emma Stone</td>\n",
       "      <td>2011</td>\n",
       "    </tr>\n",
       "    <tr>\n",
       "      <th>248</th>\n",
       "      <td>Aladdin</td>\n",
       "      <td>Ron Clements (dir.), Scott Weinger, Robin Will...</td>\n",
       "      <td>1992</td>\n",
       "    </tr>\n",
       "    <tr>\n",
       "      <th>249</th>\n",
       "      <td>Der Gigant aus dem All</td>\n",
       "      <td>Brad Bird (dir.), Eli Marienthal, Harry Connic...</td>\n",
       "      <td>1999</td>\n",
       "    </tr>\n",
       "  </tbody>\n",
       "</table>\n",
       "<p>250 rows × 3 columns</p>\n",
       "</div>"
      ],
      "text/plain": [
       "                 movie_name  \\\n",
       "0          Die Verurteilten   \n",
       "1                  Der Pate   \n",
       "2           The Dark Knight   \n",
       "3                Der Pate 2   \n",
       "4    Die zwölf Geschworenen   \n",
       "..                      ...   \n",
       "245      Uzala, der Kirgise   \n",
       "246                  Gandhi   \n",
       "247                The Help   \n",
       "248                 Aladdin   \n",
       "249  Der Gigant aus dem All   \n",
       "\n",
       "                                        director_stars  release_year  \n",
       "0    Frank Darabont (dir.), Tim Robbins, Morgan Fre...          1994  \n",
       "1    Francis Ford Coppola (dir.), Marlon Brando, Al...          1972  \n",
       "2    Christopher Nolan (dir.), Christian Bale, Heat...          2008  \n",
       "3    Francis Ford Coppola (dir.), Al Pacino, Robert...          1974  \n",
       "4        Sidney Lumet (dir.), Henry Fonda, Lee J. Cobb          1957  \n",
       "..                                                 ...           ...  \n",
       "245  Akira Kurosawa (dir.), Maksim Munzuk, Yuriy So...          1975  \n",
       "246  Richard Attenborough (dir.), Ben Kingsley, Joh...          1982  \n",
       "247        Tate Taylor (dir.), Viola Davis, Emma Stone          2011  \n",
       "248  Ron Clements (dir.), Scott Weinger, Robin Will...          1992  \n",
       "249  Brad Bird (dir.), Eli Marienthal, Harry Connic...          1999  \n",
       "\n",
       "[250 rows x 3 columns]"
      ]
     },
     "execution_count": 61,
     "metadata": {},
     "output_type": "execute_result"
    }
   ],
   "source": [
    "movies1"
   ]
  },
  {
   "cell_type": "code",
   "execution_count": 62,
   "id": "9fba542d-d23b-4ec5-bdca-9ac13551054c",
   "metadata": {},
   "outputs": [
    {
     "data": {
      "text/plain": [
       "movie_name        object\n",
       "director_stars    object\n",
       "release_year       int32\n",
       "dtype: object"
      ]
     },
     "execution_count": 62,
     "metadata": {},
     "output_type": "execute_result"
    }
   ],
   "source": [
    "movies1.dtypes"
   ]
  },
  {
   "cell_type": "code",
   "execution_count": 63,
   "id": "4a633387-215f-417f-8d61-e7bb32bd2345",
   "metadata": {
    "tags": []
   },
   "outputs": [
    {
     "data": {
      "text/html": [
       "<div>\n",
       "<style scoped>\n",
       "    .dataframe tbody tr th:only-of-type {\n",
       "        vertical-align: middle;\n",
       "    }\n",
       "\n",
       "    .dataframe tbody tr th {\n",
       "        vertical-align: top;\n",
       "    }\n",
       "\n",
       "    .dataframe thead th {\n",
       "        text-align: right;\n",
       "    }\n",
       "</style>\n",
       "<table border=\"1\" class=\"dataframe\">\n",
       "  <thead>\n",
       "    <tr style=\"text-align: right;\">\n",
       "      <th></th>\n",
       "      <th>movie_name</th>\n",
       "      <th>director_stars</th>\n",
       "      <th>release_year</th>\n",
       "    </tr>\n",
       "  </thead>\n",
       "  <tbody>\n",
       "    <tr>\n",
       "      <th>0</th>\n",
       "      <td>Die Verurteilten</td>\n",
       "      <td>Frank Darabont (dir.), Tim Robbins, Morgan Fre...</td>\n",
       "      <td>1994</td>\n",
       "    </tr>\n",
       "    <tr>\n",
       "      <th>1</th>\n",
       "      <td>Der Pate</td>\n",
       "      <td>Francis Ford Coppola (dir.), Marlon Brando, Al...</td>\n",
       "      <td>1972</td>\n",
       "    </tr>\n",
       "    <tr>\n",
       "      <th>2</th>\n",
       "      <td>The Dark Knight</td>\n",
       "      <td>Christopher Nolan (dir.), Christian Bale, Heat...</td>\n",
       "      <td>2008</td>\n",
       "    </tr>\n",
       "    <tr>\n",
       "      <th>3</th>\n",
       "      <td>Der Pate 2</td>\n",
       "      <td>Francis Ford Coppola (dir.), Al Pacino, Robert...</td>\n",
       "      <td>1974</td>\n",
       "    </tr>\n",
       "    <tr>\n",
       "      <th>4</th>\n",
       "      <td>Die zwölf Geschworenen</td>\n",
       "      <td>Sidney Lumet (dir.), Henry Fonda, Lee J. Cobb</td>\n",
       "      <td>1957</td>\n",
       "    </tr>\n",
       "    <tr>\n",
       "      <th>...</th>\n",
       "      <td>...</td>\n",
       "      <td>...</td>\n",
       "      <td>...</td>\n",
       "    </tr>\n",
       "    <tr>\n",
       "      <th>245</th>\n",
       "      <td>Uzala, der Kirgise</td>\n",
       "      <td>Akira Kurosawa (dir.), Maksim Munzuk, Yuriy So...</td>\n",
       "      <td>1975</td>\n",
       "    </tr>\n",
       "    <tr>\n",
       "      <th>246</th>\n",
       "      <td>Gandhi</td>\n",
       "      <td>Richard Attenborough (dir.), Ben Kingsley, Joh...</td>\n",
       "      <td>1982</td>\n",
       "    </tr>\n",
       "    <tr>\n",
       "      <th>247</th>\n",
       "      <td>The Help</td>\n",
       "      <td>Tate Taylor (dir.), Viola Davis, Emma Stone</td>\n",
       "      <td>2011</td>\n",
       "    </tr>\n",
       "    <tr>\n",
       "      <th>248</th>\n",
       "      <td>Aladdin</td>\n",
       "      <td>Ron Clements (dir.), Scott Weinger, Robin Will...</td>\n",
       "      <td>1992</td>\n",
       "    </tr>\n",
       "    <tr>\n",
       "      <th>249</th>\n",
       "      <td>Der Gigant aus dem All</td>\n",
       "      <td>Brad Bird (dir.), Eli Marienthal, Harry Connic...</td>\n",
       "      <td>1999</td>\n",
       "    </tr>\n",
       "  </tbody>\n",
       "</table>\n",
       "<p>250 rows × 3 columns</p>\n",
       "</div>"
      ],
      "text/plain": [
       "                 movie_name  \\\n",
       "0          Die Verurteilten   \n",
       "1                  Der Pate   \n",
       "2           The Dark Knight   \n",
       "3                Der Pate 2   \n",
       "4    Die zwölf Geschworenen   \n",
       "..                      ...   \n",
       "245      Uzala, der Kirgise   \n",
       "246                  Gandhi   \n",
       "247                The Help   \n",
       "248                 Aladdin   \n",
       "249  Der Gigant aus dem All   \n",
       "\n",
       "                                        director_stars  release_year  \n",
       "0    Frank Darabont (dir.), Tim Robbins, Morgan Fre...          1994  \n",
       "1    Francis Ford Coppola (dir.), Marlon Brando, Al...          1972  \n",
       "2    Christopher Nolan (dir.), Christian Bale, Heat...          2008  \n",
       "3    Francis Ford Coppola (dir.), Al Pacino, Robert...          1974  \n",
       "4        Sidney Lumet (dir.), Henry Fonda, Lee J. Cobb          1957  \n",
       "..                                                 ...           ...  \n",
       "245  Akira Kurosawa (dir.), Maksim Munzuk, Yuriy So...          1975  \n",
       "246  Richard Attenborough (dir.), Ben Kingsley, Joh...          1982  \n",
       "247        Tate Taylor (dir.), Viola Davis, Emma Stone          2011  \n",
       "248  Ron Clements (dir.), Scott Weinger, Robin Will...          1992  \n",
       "249  Brad Bird (dir.), Eli Marienthal, Harry Connic...          1999  \n",
       "\n",
       "[250 rows x 3 columns]"
      ]
     },
     "execution_count": 63,
     "metadata": {},
     "output_type": "execute_result"
    }
   ],
   "source": [
    "movies_df"
   ]
  },
  {
   "cell_type": "code",
   "execution_count": 64,
   "id": "63f60aaa-b3b0-486e-a833-b90837723645",
   "metadata": {
    "tags": []
   },
   "outputs": [
    {
     "data": {
      "text/html": [
       "<div>\n",
       "<style scoped>\n",
       "    .dataframe tbody tr th:only-of-type {\n",
       "        vertical-align: middle;\n",
       "    }\n",
       "\n",
       "    .dataframe tbody tr th {\n",
       "        vertical-align: top;\n",
       "    }\n",
       "\n",
       "    .dataframe thead th {\n",
       "        text-align: right;\n",
       "    }\n",
       "</style>\n",
       "<table border=\"1\" class=\"dataframe\">\n",
       "  <thead>\n",
       "    <tr style=\"text-align: right;\">\n",
       "      <th></th>\n",
       "      <th>movie_name</th>\n",
       "      <th>director_stars</th>\n",
       "      <th>release_year</th>\n",
       "    </tr>\n",
       "  </thead>\n",
       "  <tbody>\n",
       "    <tr>\n",
       "      <th>0</th>\n",
       "      <td>Die Verurteilten</td>\n",
       "      <td>Frank Darabont (dir.), Tim Robbins, Morgan Fre...</td>\n",
       "      <td>1994</td>\n",
       "    </tr>\n",
       "    <tr>\n",
       "      <th>1</th>\n",
       "      <td>Der Pate</td>\n",
       "      <td>Francis Ford Coppola (dir.), Marlon Brando, Al...</td>\n",
       "      <td>1972</td>\n",
       "    </tr>\n",
       "    <tr>\n",
       "      <th>2</th>\n",
       "      <td>The Dark Knight</td>\n",
       "      <td>Christopher Nolan (dir.), Christian Bale, Heat...</td>\n",
       "      <td>2008</td>\n",
       "    </tr>\n",
       "    <tr>\n",
       "      <th>3</th>\n",
       "      <td>Der Pate 2</td>\n",
       "      <td>Francis Ford Coppola (dir.), Al Pacino, Robert...</td>\n",
       "      <td>1974</td>\n",
       "    </tr>\n",
       "    <tr>\n",
       "      <th>4</th>\n",
       "      <td>Die zwölf Geschworenen</td>\n",
       "      <td>Sidney Lumet (dir.), Henry Fonda, Lee J. Cobb</td>\n",
       "      <td>1957</td>\n",
       "    </tr>\n",
       "    <tr>\n",
       "      <th>...</th>\n",
       "      <td>...</td>\n",
       "      <td>...</td>\n",
       "      <td>...</td>\n",
       "    </tr>\n",
       "    <tr>\n",
       "      <th>245</th>\n",
       "      <td>Uzala, der Kirgise</td>\n",
       "      <td>Akira Kurosawa (dir.), Maksim Munzuk, Yuriy So...</td>\n",
       "      <td>1975</td>\n",
       "    </tr>\n",
       "    <tr>\n",
       "      <th>246</th>\n",
       "      <td>Gandhi</td>\n",
       "      <td>Richard Attenborough (dir.), Ben Kingsley, Joh...</td>\n",
       "      <td>1982</td>\n",
       "    </tr>\n",
       "    <tr>\n",
       "      <th>247</th>\n",
       "      <td>The Help</td>\n",
       "      <td>Tate Taylor (dir.), Viola Davis, Emma Stone</td>\n",
       "      <td>2011</td>\n",
       "    </tr>\n",
       "    <tr>\n",
       "      <th>248</th>\n",
       "      <td>Aladdin</td>\n",
       "      <td>Ron Clements (dir.), Scott Weinger, Robin Will...</td>\n",
       "      <td>1992</td>\n",
       "    </tr>\n",
       "    <tr>\n",
       "      <th>249</th>\n",
       "      <td>Der Gigant aus dem All</td>\n",
       "      <td>Brad Bird (dir.), Eli Marienthal, Harry Connic...</td>\n",
       "      <td>1999</td>\n",
       "    </tr>\n",
       "  </tbody>\n",
       "</table>\n",
       "<p>250 rows × 3 columns</p>\n",
       "</div>"
      ],
      "text/plain": [
       "                 movie_name  \\\n",
       "0          Die Verurteilten   \n",
       "1                  Der Pate   \n",
       "2           The Dark Knight   \n",
       "3                Der Pate 2   \n",
       "4    Die zwölf Geschworenen   \n",
       "..                      ...   \n",
       "245      Uzala, der Kirgise   \n",
       "246                  Gandhi   \n",
       "247                The Help   \n",
       "248                 Aladdin   \n",
       "249  Der Gigant aus dem All   \n",
       "\n",
       "                                        director_stars  release_year  \n",
       "0    Frank Darabont (dir.), Tim Robbins, Morgan Fre...          1994  \n",
       "1    Francis Ford Coppola (dir.), Marlon Brando, Al...          1972  \n",
       "2    Christopher Nolan (dir.), Christian Bale, Heat...          2008  \n",
       "3    Francis Ford Coppola (dir.), Al Pacino, Robert...          1974  \n",
       "4        Sidney Lumet (dir.), Henry Fonda, Lee J. Cobb          1957  \n",
       "..                                                 ...           ...  \n",
       "245  Akira Kurosawa (dir.), Maksim Munzuk, Yuriy So...          1975  \n",
       "246  Richard Attenborough (dir.), Ben Kingsley, Joh...          1982  \n",
       "247        Tate Taylor (dir.), Viola Davis, Emma Stone          2011  \n",
       "248  Ron Clements (dir.), Scott Weinger, Robin Will...          1992  \n",
       "249  Brad Bird (dir.), Eli Marienthal, Harry Connic...          1999  \n",
       "\n",
       "[250 rows x 3 columns]"
      ]
     },
     "execution_count": 64,
     "metadata": {},
     "output_type": "execute_result"
    }
   ],
   "source": [
    "movies2 = movies_df\n",
    "movies2"
   ]
  },
  {
   "cell_type": "code",
   "execution_count": 65,
   "id": "369850c1-c8e3-414f-8179-93350816f062",
   "metadata": {},
   "outputs": [],
   "source": [
    "movies2['release_year'] = movies2.release_year.replace(to_replace=r'[()]', value='', regex=True)"
   ]
  },
  {
   "cell_type": "code",
   "execution_count": 66,
   "id": "8b93400f-fab8-4f73-a7e6-a507da340017",
   "metadata": {
    "tags": []
   },
   "outputs": [
    {
     "data": {
      "text/html": [
       "<div>\n",
       "<style scoped>\n",
       "    .dataframe tbody tr th:only-of-type {\n",
       "        vertical-align: middle;\n",
       "    }\n",
       "\n",
       "    .dataframe tbody tr th {\n",
       "        vertical-align: top;\n",
       "    }\n",
       "\n",
       "    .dataframe thead th {\n",
       "        text-align: right;\n",
       "    }\n",
       "</style>\n",
       "<table border=\"1\" class=\"dataframe\">\n",
       "  <thead>\n",
       "    <tr style=\"text-align: right;\">\n",
       "      <th></th>\n",
       "      <th>movie_name</th>\n",
       "      <th>director_stars</th>\n",
       "      <th>release_year</th>\n",
       "    </tr>\n",
       "  </thead>\n",
       "  <tbody>\n",
       "    <tr>\n",
       "      <th>0</th>\n",
       "      <td>Die Verurteilten</td>\n",
       "      <td>Frank Darabont (dir.), Tim Robbins, Morgan Fre...</td>\n",
       "      <td>1994</td>\n",
       "    </tr>\n",
       "    <tr>\n",
       "      <th>1</th>\n",
       "      <td>Der Pate</td>\n",
       "      <td>Francis Ford Coppola (dir.), Marlon Brando, Al...</td>\n",
       "      <td>1972</td>\n",
       "    </tr>\n",
       "    <tr>\n",
       "      <th>2</th>\n",
       "      <td>The Dark Knight</td>\n",
       "      <td>Christopher Nolan (dir.), Christian Bale, Heat...</td>\n",
       "      <td>2008</td>\n",
       "    </tr>\n",
       "    <tr>\n",
       "      <th>3</th>\n",
       "      <td>Der Pate 2</td>\n",
       "      <td>Francis Ford Coppola (dir.), Al Pacino, Robert...</td>\n",
       "      <td>1974</td>\n",
       "    </tr>\n",
       "    <tr>\n",
       "      <th>4</th>\n",
       "      <td>Die zwölf Geschworenen</td>\n",
       "      <td>Sidney Lumet (dir.), Henry Fonda, Lee J. Cobb</td>\n",
       "      <td>1957</td>\n",
       "    </tr>\n",
       "    <tr>\n",
       "      <th>...</th>\n",
       "      <td>...</td>\n",
       "      <td>...</td>\n",
       "      <td>...</td>\n",
       "    </tr>\n",
       "    <tr>\n",
       "      <th>245</th>\n",
       "      <td>Uzala, der Kirgise</td>\n",
       "      <td>Akira Kurosawa (dir.), Maksim Munzuk, Yuriy So...</td>\n",
       "      <td>1975</td>\n",
       "    </tr>\n",
       "    <tr>\n",
       "      <th>246</th>\n",
       "      <td>Gandhi</td>\n",
       "      <td>Richard Attenborough (dir.), Ben Kingsley, Joh...</td>\n",
       "      <td>1982</td>\n",
       "    </tr>\n",
       "    <tr>\n",
       "      <th>247</th>\n",
       "      <td>The Help</td>\n",
       "      <td>Tate Taylor (dir.), Viola Davis, Emma Stone</td>\n",
       "      <td>2011</td>\n",
       "    </tr>\n",
       "    <tr>\n",
       "      <th>248</th>\n",
       "      <td>Aladdin</td>\n",
       "      <td>Ron Clements (dir.), Scott Weinger, Robin Will...</td>\n",
       "      <td>1992</td>\n",
       "    </tr>\n",
       "    <tr>\n",
       "      <th>249</th>\n",
       "      <td>Der Gigant aus dem All</td>\n",
       "      <td>Brad Bird (dir.), Eli Marienthal, Harry Connic...</td>\n",
       "      <td>1999</td>\n",
       "    </tr>\n",
       "  </tbody>\n",
       "</table>\n",
       "<p>250 rows × 3 columns</p>\n",
       "</div>"
      ],
      "text/plain": [
       "                 movie_name  \\\n",
       "0          Die Verurteilten   \n",
       "1                  Der Pate   \n",
       "2           The Dark Knight   \n",
       "3                Der Pate 2   \n",
       "4    Die zwölf Geschworenen   \n",
       "..                      ...   \n",
       "245      Uzala, der Kirgise   \n",
       "246                  Gandhi   \n",
       "247                The Help   \n",
       "248                 Aladdin   \n",
       "249  Der Gigant aus dem All   \n",
       "\n",
       "                                        director_stars  release_year  \n",
       "0    Frank Darabont (dir.), Tim Robbins, Morgan Fre...          1994  \n",
       "1    Francis Ford Coppola (dir.), Marlon Brando, Al...          1972  \n",
       "2    Christopher Nolan (dir.), Christian Bale, Heat...          2008  \n",
       "3    Francis Ford Coppola (dir.), Al Pacino, Robert...          1974  \n",
       "4        Sidney Lumet (dir.), Henry Fonda, Lee J. Cobb          1957  \n",
       "..                                                 ...           ...  \n",
       "245  Akira Kurosawa (dir.), Maksim Munzuk, Yuriy So...          1975  \n",
       "246  Richard Attenborough (dir.), Ben Kingsley, Joh...          1982  \n",
       "247        Tate Taylor (dir.), Viola Davis, Emma Stone          2011  \n",
       "248  Ron Clements (dir.), Scott Weinger, Robin Will...          1992  \n",
       "249  Brad Bird (dir.), Eli Marienthal, Harry Connic...          1999  \n",
       "\n",
       "[250 rows x 3 columns]"
      ]
     },
     "execution_count": 66,
     "metadata": {},
     "output_type": "execute_result"
    }
   ],
   "source": [
    "movies2"
   ]
  },
  {
   "cell_type": "code",
   "execution_count": 67,
   "id": "616fcc83-cf88-4399-9d5e-c5e7a641ba9b",
   "metadata": {},
   "outputs": [],
   "source": [
    "movies2['release_year'] = movies2['release_year'].astype(int)"
   ]
  },
  {
   "cell_type": "code",
   "execution_count": 68,
   "id": "01cc41b1-4665-4be6-a635-71723ea70170",
   "metadata": {
    "tags": []
   },
   "outputs": [
    {
     "data": {
      "text/html": [
       "<div>\n",
       "<style scoped>\n",
       "    .dataframe tbody tr th:only-of-type {\n",
       "        vertical-align: middle;\n",
       "    }\n",
       "\n",
       "    .dataframe tbody tr th {\n",
       "        vertical-align: top;\n",
       "    }\n",
       "\n",
       "    .dataframe thead th {\n",
       "        text-align: right;\n",
       "    }\n",
       "</style>\n",
       "<table border=\"1\" class=\"dataframe\">\n",
       "  <thead>\n",
       "    <tr style=\"text-align: right;\">\n",
       "      <th></th>\n",
       "      <th>movie_name</th>\n",
       "      <th>director_stars</th>\n",
       "      <th>release_year</th>\n",
       "    </tr>\n",
       "  </thead>\n",
       "  <tbody>\n",
       "    <tr>\n",
       "      <th>0</th>\n",
       "      <td>Die Verurteilten</td>\n",
       "      <td>Frank Darabont (dir.), Tim Robbins, Morgan Fre...</td>\n",
       "      <td>1994</td>\n",
       "    </tr>\n",
       "    <tr>\n",
       "      <th>1</th>\n",
       "      <td>Der Pate</td>\n",
       "      <td>Francis Ford Coppola (dir.), Marlon Brando, Al...</td>\n",
       "      <td>1972</td>\n",
       "    </tr>\n",
       "    <tr>\n",
       "      <th>2</th>\n",
       "      <td>The Dark Knight</td>\n",
       "      <td>Christopher Nolan (dir.), Christian Bale, Heat...</td>\n",
       "      <td>2008</td>\n",
       "    </tr>\n",
       "    <tr>\n",
       "      <th>3</th>\n",
       "      <td>Der Pate 2</td>\n",
       "      <td>Francis Ford Coppola (dir.), Al Pacino, Robert...</td>\n",
       "      <td>1974</td>\n",
       "    </tr>\n",
       "    <tr>\n",
       "      <th>4</th>\n",
       "      <td>Die zwölf Geschworenen</td>\n",
       "      <td>Sidney Lumet (dir.), Henry Fonda, Lee J. Cobb</td>\n",
       "      <td>1957</td>\n",
       "    </tr>\n",
       "    <tr>\n",
       "      <th>...</th>\n",
       "      <td>...</td>\n",
       "      <td>...</td>\n",
       "      <td>...</td>\n",
       "    </tr>\n",
       "    <tr>\n",
       "      <th>245</th>\n",
       "      <td>Uzala, der Kirgise</td>\n",
       "      <td>Akira Kurosawa (dir.), Maksim Munzuk, Yuriy So...</td>\n",
       "      <td>1975</td>\n",
       "    </tr>\n",
       "    <tr>\n",
       "      <th>246</th>\n",
       "      <td>Gandhi</td>\n",
       "      <td>Richard Attenborough (dir.), Ben Kingsley, Joh...</td>\n",
       "      <td>1982</td>\n",
       "    </tr>\n",
       "    <tr>\n",
       "      <th>247</th>\n",
       "      <td>The Help</td>\n",
       "      <td>Tate Taylor (dir.), Viola Davis, Emma Stone</td>\n",
       "      <td>2011</td>\n",
       "    </tr>\n",
       "    <tr>\n",
       "      <th>248</th>\n",
       "      <td>Aladdin</td>\n",
       "      <td>Ron Clements (dir.), Scott Weinger, Robin Will...</td>\n",
       "      <td>1992</td>\n",
       "    </tr>\n",
       "    <tr>\n",
       "      <th>249</th>\n",
       "      <td>Der Gigant aus dem All</td>\n",
       "      <td>Brad Bird (dir.), Eli Marienthal, Harry Connic...</td>\n",
       "      <td>1999</td>\n",
       "    </tr>\n",
       "  </tbody>\n",
       "</table>\n",
       "<p>250 rows × 3 columns</p>\n",
       "</div>"
      ],
      "text/plain": [
       "                 movie_name  \\\n",
       "0          Die Verurteilten   \n",
       "1                  Der Pate   \n",
       "2           The Dark Knight   \n",
       "3                Der Pate 2   \n",
       "4    Die zwölf Geschworenen   \n",
       "..                      ...   \n",
       "245      Uzala, der Kirgise   \n",
       "246                  Gandhi   \n",
       "247                The Help   \n",
       "248                 Aladdin   \n",
       "249  Der Gigant aus dem All   \n",
       "\n",
       "                                        director_stars  release_year  \n",
       "0    Frank Darabont (dir.), Tim Robbins, Morgan Fre...          1994  \n",
       "1    Francis Ford Coppola (dir.), Marlon Brando, Al...          1972  \n",
       "2    Christopher Nolan (dir.), Christian Bale, Heat...          2008  \n",
       "3    Francis Ford Coppola (dir.), Al Pacino, Robert...          1974  \n",
       "4        Sidney Lumet (dir.), Henry Fonda, Lee J. Cobb          1957  \n",
       "..                                                 ...           ...  \n",
       "245  Akira Kurosawa (dir.), Maksim Munzuk, Yuriy So...          1975  \n",
       "246  Richard Attenborough (dir.), Ben Kingsley, Joh...          1982  \n",
       "247        Tate Taylor (dir.), Viola Davis, Emma Stone          2011  \n",
       "248  Ron Clements (dir.), Scott Weinger, Robin Will...          1992  \n",
       "249  Brad Bird (dir.), Eli Marienthal, Harry Connic...          1999  \n",
       "\n",
       "[250 rows x 3 columns]"
      ]
     },
     "execution_count": 68,
     "metadata": {},
     "output_type": "execute_result"
    }
   ],
   "source": [
    "movies2"
   ]
  },
  {
   "cell_type": "code",
   "execution_count": 69,
   "id": "48a16c3f-4973-452e-ac87-1a7a2439246a",
   "metadata": {},
   "outputs": [
    {
     "data": {
      "text/plain": [
       "movie_name        object\n",
       "director_stars    object\n",
       "release_year       int32\n",
       "dtype: object"
      ]
     },
     "execution_count": 69,
     "metadata": {},
     "output_type": "execute_result"
    }
   ],
   "source": [
    "movies2.dtypes"
   ]
  },
  {
   "cell_type": "code",
   "execution_count": 70,
   "id": "32419eec-f241-4aaa-ac4c-1e5b63f1a850",
   "metadata": {
    "tags": []
   },
   "outputs": [
    {
     "data": {
      "text/html": [
       "<div>\n",
       "<style scoped>\n",
       "    .dataframe tbody tr th:only-of-type {\n",
       "        vertical-align: middle;\n",
       "    }\n",
       "\n",
       "    .dataframe tbody tr th {\n",
       "        vertical-align: top;\n",
       "    }\n",
       "\n",
       "    .dataframe thead th {\n",
       "        text-align: right;\n",
       "    }\n",
       "</style>\n",
       "<table border=\"1\" class=\"dataframe\">\n",
       "  <thead>\n",
       "    <tr style=\"text-align: right;\">\n",
       "      <th></th>\n",
       "      <th>movie_name</th>\n",
       "      <th>director_stars</th>\n",
       "      <th>release_year</th>\n",
       "      <th>director</th>\n",
       "    </tr>\n",
       "  </thead>\n",
       "  <tbody>\n",
       "    <tr>\n",
       "      <th>0</th>\n",
       "      <td>Die Verurteilten</td>\n",
       "      <td>Frank Darabont (dir.), Tim Robbins, Morgan Fre...</td>\n",
       "      <td>1994</td>\n",
       "      <td>[Frank Darabont (dir.),  Tim Robbins,  Morgan ...</td>\n",
       "    </tr>\n",
       "    <tr>\n",
       "      <th>1</th>\n",
       "      <td>Der Pate</td>\n",
       "      <td>Francis Ford Coppola (dir.), Marlon Brando, Al...</td>\n",
       "      <td>1972</td>\n",
       "      <td>[Francis Ford Coppola (dir.),  Marlon Brando, ...</td>\n",
       "    </tr>\n",
       "    <tr>\n",
       "      <th>2</th>\n",
       "      <td>The Dark Knight</td>\n",
       "      <td>Christopher Nolan (dir.), Christian Bale, Heat...</td>\n",
       "      <td>2008</td>\n",
       "      <td>[Christopher Nolan (dir.),  Christian Bale,  H...</td>\n",
       "    </tr>\n",
       "    <tr>\n",
       "      <th>3</th>\n",
       "      <td>Der Pate 2</td>\n",
       "      <td>Francis Ford Coppola (dir.), Al Pacino, Robert...</td>\n",
       "      <td>1974</td>\n",
       "      <td>[Francis Ford Coppola (dir.),  Al Pacino,  Rob...</td>\n",
       "    </tr>\n",
       "    <tr>\n",
       "      <th>4</th>\n",
       "      <td>Die zwölf Geschworenen</td>\n",
       "      <td>Sidney Lumet (dir.), Henry Fonda, Lee J. Cobb</td>\n",
       "      <td>1957</td>\n",
       "      <td>[Sidney Lumet (dir.),  Henry Fonda,  Lee J. Cobb]</td>\n",
       "    </tr>\n",
       "    <tr>\n",
       "      <th>...</th>\n",
       "      <td>...</td>\n",
       "      <td>...</td>\n",
       "      <td>...</td>\n",
       "      <td>...</td>\n",
       "    </tr>\n",
       "    <tr>\n",
       "      <th>245</th>\n",
       "      <td>Uzala, der Kirgise</td>\n",
       "      <td>Akira Kurosawa (dir.), Maksim Munzuk, Yuriy So...</td>\n",
       "      <td>1975</td>\n",
       "      <td>[Akira Kurosawa (dir.),  Maksim Munzuk,  Yuriy...</td>\n",
       "    </tr>\n",
       "    <tr>\n",
       "      <th>246</th>\n",
       "      <td>Gandhi</td>\n",
       "      <td>Richard Attenborough (dir.), Ben Kingsley, Joh...</td>\n",
       "      <td>1982</td>\n",
       "      <td>[Richard Attenborough (dir.),  Ben Kingsley,  ...</td>\n",
       "    </tr>\n",
       "    <tr>\n",
       "      <th>247</th>\n",
       "      <td>The Help</td>\n",
       "      <td>Tate Taylor (dir.), Viola Davis, Emma Stone</td>\n",
       "      <td>2011</td>\n",
       "      <td>[Tate Taylor (dir.),  Viola Davis,  Emma Stone]</td>\n",
       "    </tr>\n",
       "    <tr>\n",
       "      <th>248</th>\n",
       "      <td>Aladdin</td>\n",
       "      <td>Ron Clements (dir.), Scott Weinger, Robin Will...</td>\n",
       "      <td>1992</td>\n",
       "      <td>[Ron Clements (dir.),  Scott Weinger,  Robin W...</td>\n",
       "    </tr>\n",
       "    <tr>\n",
       "      <th>249</th>\n",
       "      <td>Der Gigant aus dem All</td>\n",
       "      <td>Brad Bird (dir.), Eli Marienthal, Harry Connic...</td>\n",
       "      <td>1999</td>\n",
       "      <td>[Brad Bird (dir.),  Eli Marienthal,  Harry Con...</td>\n",
       "    </tr>\n",
       "  </tbody>\n",
       "</table>\n",
       "<p>250 rows × 4 columns</p>\n",
       "</div>"
      ],
      "text/plain": [
       "                 movie_name  \\\n",
       "0          Die Verurteilten   \n",
       "1                  Der Pate   \n",
       "2           The Dark Knight   \n",
       "3                Der Pate 2   \n",
       "4    Die zwölf Geschworenen   \n",
       "..                      ...   \n",
       "245      Uzala, der Kirgise   \n",
       "246                  Gandhi   \n",
       "247                The Help   \n",
       "248                 Aladdin   \n",
       "249  Der Gigant aus dem All   \n",
       "\n",
       "                                        director_stars  release_year  \\\n",
       "0    Frank Darabont (dir.), Tim Robbins, Morgan Fre...          1994   \n",
       "1    Francis Ford Coppola (dir.), Marlon Brando, Al...          1972   \n",
       "2    Christopher Nolan (dir.), Christian Bale, Heat...          2008   \n",
       "3    Francis Ford Coppola (dir.), Al Pacino, Robert...          1974   \n",
       "4        Sidney Lumet (dir.), Henry Fonda, Lee J. Cobb          1957   \n",
       "..                                                 ...           ...   \n",
       "245  Akira Kurosawa (dir.), Maksim Munzuk, Yuriy So...          1975   \n",
       "246  Richard Attenborough (dir.), Ben Kingsley, Joh...          1982   \n",
       "247        Tate Taylor (dir.), Viola Davis, Emma Stone          2011   \n",
       "248  Ron Clements (dir.), Scott Weinger, Robin Will...          1992   \n",
       "249  Brad Bird (dir.), Eli Marienthal, Harry Connic...          1999   \n",
       "\n",
       "                                              director  \n",
       "0    [Frank Darabont (dir.),  Tim Robbins,  Morgan ...  \n",
       "1    [Francis Ford Coppola (dir.),  Marlon Brando, ...  \n",
       "2    [Christopher Nolan (dir.),  Christian Bale,  H...  \n",
       "3    [Francis Ford Coppola (dir.),  Al Pacino,  Rob...  \n",
       "4    [Sidney Lumet (dir.),  Henry Fonda,  Lee J. Cobb]  \n",
       "..                                                 ...  \n",
       "245  [Akira Kurosawa (dir.),  Maksim Munzuk,  Yuriy...  \n",
       "246  [Richard Attenborough (dir.),  Ben Kingsley,  ...  \n",
       "247    [Tate Taylor (dir.),  Viola Davis,  Emma Stone]  \n",
       "248  [Ron Clements (dir.),  Scott Weinger,  Robin W...  \n",
       "249  [Brad Bird (dir.),  Eli Marienthal,  Harry Con...  \n",
       "\n",
       "[250 rows x 4 columns]"
      ]
     },
     "execution_count": 70,
     "metadata": {},
     "output_type": "execute_result"
    }
   ],
   "source": [
    "movies2['director'] = movies2.director_stars.str.split(',')\n",
    "movies2"
   ]
  },
  {
   "cell_type": "code",
   "execution_count": 71,
   "id": "3b2bb133-70be-4eca-a8cf-4c1b794837d1",
   "metadata": {
    "tags": []
   },
   "outputs": [
    {
     "data": {
      "text/html": [
       "<div>\n",
       "<style scoped>\n",
       "    .dataframe tbody tr th:only-of-type {\n",
       "        vertical-align: middle;\n",
       "    }\n",
       "\n",
       "    .dataframe tbody tr th {\n",
       "        vertical-align: top;\n",
       "    }\n",
       "\n",
       "    .dataframe thead th {\n",
       "        text-align: right;\n",
       "    }\n",
       "</style>\n",
       "<table border=\"1\" class=\"dataframe\">\n",
       "  <thead>\n",
       "    <tr style=\"text-align: right;\">\n",
       "      <th></th>\n",
       "      <th>movie_name</th>\n",
       "      <th>director_stars</th>\n",
       "      <th>release_year</th>\n",
       "      <th>director</th>\n",
       "      <th>director_clean</th>\n",
       "    </tr>\n",
       "  </thead>\n",
       "  <tbody>\n",
       "    <tr>\n",
       "      <th>0</th>\n",
       "      <td>Die Verurteilten</td>\n",
       "      <td>Frank Darabont (dir.), Tim Robbins, Morgan Fre...</td>\n",
       "      <td>1994</td>\n",
       "      <td>[Frank Darabont (dir.),  Tim Robbins,  Morgan ...</td>\n",
       "      <td>Frank Darabont</td>\n",
       "    </tr>\n",
       "    <tr>\n",
       "      <th>1</th>\n",
       "      <td>Der Pate</td>\n",
       "      <td>Francis Ford Coppola (dir.), Marlon Brando, Al...</td>\n",
       "      <td>1972</td>\n",
       "      <td>[Francis Ford Coppola (dir.),  Marlon Brando, ...</td>\n",
       "      <td>Francis Ford Coppola</td>\n",
       "    </tr>\n",
       "    <tr>\n",
       "      <th>2</th>\n",
       "      <td>The Dark Knight</td>\n",
       "      <td>Christopher Nolan (dir.), Christian Bale, Heat...</td>\n",
       "      <td>2008</td>\n",
       "      <td>[Christopher Nolan (dir.),  Christian Bale,  H...</td>\n",
       "      <td>Christopher Nolan</td>\n",
       "    </tr>\n",
       "    <tr>\n",
       "      <th>3</th>\n",
       "      <td>Der Pate 2</td>\n",
       "      <td>Francis Ford Coppola (dir.), Al Pacino, Robert...</td>\n",
       "      <td>1974</td>\n",
       "      <td>[Francis Ford Coppola (dir.),  Al Pacino,  Rob...</td>\n",
       "      <td>Francis Ford Coppola</td>\n",
       "    </tr>\n",
       "    <tr>\n",
       "      <th>4</th>\n",
       "      <td>Die zwölf Geschworenen</td>\n",
       "      <td>Sidney Lumet (dir.), Henry Fonda, Lee J. Cobb</td>\n",
       "      <td>1957</td>\n",
       "      <td>[Sidney Lumet (dir.),  Henry Fonda,  Lee J. Cobb]</td>\n",
       "      <td>Sidney Lumet</td>\n",
       "    </tr>\n",
       "    <tr>\n",
       "      <th>...</th>\n",
       "      <td>...</td>\n",
       "      <td>...</td>\n",
       "      <td>...</td>\n",
       "      <td>...</td>\n",
       "      <td>...</td>\n",
       "    </tr>\n",
       "    <tr>\n",
       "      <th>245</th>\n",
       "      <td>Uzala, der Kirgise</td>\n",
       "      <td>Akira Kurosawa (dir.), Maksim Munzuk, Yuriy So...</td>\n",
       "      <td>1975</td>\n",
       "      <td>[Akira Kurosawa (dir.),  Maksim Munzuk,  Yuriy...</td>\n",
       "      <td>Akira Kurosawa</td>\n",
       "    </tr>\n",
       "    <tr>\n",
       "      <th>246</th>\n",
       "      <td>Gandhi</td>\n",
       "      <td>Richard Attenborough (dir.), Ben Kingsley, Joh...</td>\n",
       "      <td>1982</td>\n",
       "      <td>[Richard Attenborough (dir.),  Ben Kingsley,  ...</td>\n",
       "      <td>Richard Attenborough</td>\n",
       "    </tr>\n",
       "    <tr>\n",
       "      <th>247</th>\n",
       "      <td>The Help</td>\n",
       "      <td>Tate Taylor (dir.), Viola Davis, Emma Stone</td>\n",
       "      <td>2011</td>\n",
       "      <td>[Tate Taylor (dir.),  Viola Davis,  Emma Stone]</td>\n",
       "      <td>Tate Taylor</td>\n",
       "    </tr>\n",
       "    <tr>\n",
       "      <th>248</th>\n",
       "      <td>Aladdin</td>\n",
       "      <td>Ron Clements (dir.), Scott Weinger, Robin Will...</td>\n",
       "      <td>1992</td>\n",
       "      <td>[Ron Clements (dir.),  Scott Weinger,  Robin W...</td>\n",
       "      <td>Ron Clements</td>\n",
       "    </tr>\n",
       "    <tr>\n",
       "      <th>249</th>\n",
       "      <td>Der Gigant aus dem All</td>\n",
       "      <td>Brad Bird (dir.), Eli Marienthal, Harry Connic...</td>\n",
       "      <td>1999</td>\n",
       "      <td>[Brad Bird (dir.),  Eli Marienthal,  Harry Con...</td>\n",
       "      <td>Brad Bird</td>\n",
       "    </tr>\n",
       "  </tbody>\n",
       "</table>\n",
       "<p>250 rows × 5 columns</p>\n",
       "</div>"
      ],
      "text/plain": [
       "                 movie_name  \\\n",
       "0          Die Verurteilten   \n",
       "1                  Der Pate   \n",
       "2           The Dark Knight   \n",
       "3                Der Pate 2   \n",
       "4    Die zwölf Geschworenen   \n",
       "..                      ...   \n",
       "245      Uzala, der Kirgise   \n",
       "246                  Gandhi   \n",
       "247                The Help   \n",
       "248                 Aladdin   \n",
       "249  Der Gigant aus dem All   \n",
       "\n",
       "                                        director_stars  release_year  \\\n",
       "0    Frank Darabont (dir.), Tim Robbins, Morgan Fre...          1994   \n",
       "1    Francis Ford Coppola (dir.), Marlon Brando, Al...          1972   \n",
       "2    Christopher Nolan (dir.), Christian Bale, Heat...          2008   \n",
       "3    Francis Ford Coppola (dir.), Al Pacino, Robert...          1974   \n",
       "4        Sidney Lumet (dir.), Henry Fonda, Lee J. Cobb          1957   \n",
       "..                                                 ...           ...   \n",
       "245  Akira Kurosawa (dir.), Maksim Munzuk, Yuriy So...          1975   \n",
       "246  Richard Attenborough (dir.), Ben Kingsley, Joh...          1982   \n",
       "247        Tate Taylor (dir.), Viola Davis, Emma Stone          2011   \n",
       "248  Ron Clements (dir.), Scott Weinger, Robin Will...          1992   \n",
       "249  Brad Bird (dir.), Eli Marienthal, Harry Connic...          1999   \n",
       "\n",
       "                                              director          director_clean  \n",
       "0    [Frank Darabont (dir.),  Tim Robbins,  Morgan ...        Frank Darabont    \n",
       "1    [Francis Ford Coppola (dir.),  Marlon Brando, ...  Francis Ford Coppola    \n",
       "2    [Christopher Nolan (dir.),  Christian Bale,  H...     Christopher Nolan    \n",
       "3    [Francis Ford Coppola (dir.),  Al Pacino,  Rob...  Francis Ford Coppola    \n",
       "4    [Sidney Lumet (dir.),  Henry Fonda,  Lee J. Cobb]          Sidney Lumet    \n",
       "..                                                 ...                     ...  \n",
       "245  [Akira Kurosawa (dir.),  Maksim Munzuk,  Yuriy...        Akira Kurosawa    \n",
       "246  [Richard Attenborough (dir.),  Ben Kingsley,  ...  Richard Attenborough    \n",
       "247    [Tate Taylor (dir.),  Viola Davis,  Emma Stone]           Tate Taylor    \n",
       "248  [Ron Clements (dir.),  Scott Weinger,  Robin W...          Ron Clements    \n",
       "249  [Brad Bird (dir.),  Eli Marienthal,  Harry Con...             Brad Bird    \n",
       "\n",
       "[250 rows x 5 columns]"
      ]
     },
     "execution_count": 71,
     "metadata": {},
     "output_type": "execute_result"
    }
   ],
   "source": [
    "movies2['director_clean'] = movies2.director.str[0].replace(to_replace=r'[(]dir.[)]', value=' ', regex=True)\n",
    "movies2"
   ]
  },
  {
   "cell_type": "code",
   "execution_count": 72,
   "id": "131ff95e-e63c-4d40-9757-54c2b62c8f3b",
   "metadata": {},
   "outputs": [],
   "source": [
    "movies2['true_director'] = movies2['director_clean'].str[:] + ',' + ' ' + movies2.director.str[1] + ',' + ' ' + movies2.director.str[2] "
   ]
  },
  {
   "cell_type": "code",
   "execution_count": 73,
   "id": "3583d485-f6e6-4654-9d6b-e286cc224840",
   "metadata": {
    "tags": []
   },
   "outputs": [
    {
     "data": {
      "text/html": [
       "<div>\n",
       "<style scoped>\n",
       "    .dataframe tbody tr th:only-of-type {\n",
       "        vertical-align: middle;\n",
       "    }\n",
       "\n",
       "    .dataframe tbody tr th {\n",
       "        vertical-align: top;\n",
       "    }\n",
       "\n",
       "    .dataframe thead th {\n",
       "        text-align: right;\n",
       "    }\n",
       "</style>\n",
       "<table border=\"1\" class=\"dataframe\">\n",
       "  <thead>\n",
       "    <tr style=\"text-align: right;\">\n",
       "      <th></th>\n",
       "      <th>movie_name</th>\n",
       "      <th>director_stars</th>\n",
       "      <th>release_year</th>\n",
       "      <th>director</th>\n",
       "      <th>director_clean</th>\n",
       "      <th>true_director</th>\n",
       "    </tr>\n",
       "  </thead>\n",
       "  <tbody>\n",
       "    <tr>\n",
       "      <th>0</th>\n",
       "      <td>Die Verurteilten</td>\n",
       "      <td>Frank Darabont (dir.), Tim Robbins, Morgan Fre...</td>\n",
       "      <td>1994</td>\n",
       "      <td>[Frank Darabont (dir.),  Tim Robbins,  Morgan ...</td>\n",
       "      <td>Frank Darabont</td>\n",
       "      <td>Frank Darabont  ,  Tim Robbins,  Morgan Freeman</td>\n",
       "    </tr>\n",
       "    <tr>\n",
       "      <th>1</th>\n",
       "      <td>Der Pate</td>\n",
       "      <td>Francis Ford Coppola (dir.), Marlon Brando, Al...</td>\n",
       "      <td>1972</td>\n",
       "      <td>[Francis Ford Coppola (dir.),  Marlon Brando, ...</td>\n",
       "      <td>Francis Ford Coppola</td>\n",
       "      <td>Francis Ford Coppola  ,  Marlon Brando,  Al Pa...</td>\n",
       "    </tr>\n",
       "    <tr>\n",
       "      <th>2</th>\n",
       "      <td>The Dark Knight</td>\n",
       "      <td>Christopher Nolan (dir.), Christian Bale, Heat...</td>\n",
       "      <td>2008</td>\n",
       "      <td>[Christopher Nolan (dir.),  Christian Bale,  H...</td>\n",
       "      <td>Christopher Nolan</td>\n",
       "      <td>Christopher Nolan  ,  Christian Bale,  Heath L...</td>\n",
       "    </tr>\n",
       "    <tr>\n",
       "      <th>3</th>\n",
       "      <td>Der Pate 2</td>\n",
       "      <td>Francis Ford Coppola (dir.), Al Pacino, Robert...</td>\n",
       "      <td>1974</td>\n",
       "      <td>[Francis Ford Coppola (dir.),  Al Pacino,  Rob...</td>\n",
       "      <td>Francis Ford Coppola</td>\n",
       "      <td>Francis Ford Coppola  ,  Al Pacino,  Robert De...</td>\n",
       "    </tr>\n",
       "    <tr>\n",
       "      <th>4</th>\n",
       "      <td>Die zwölf Geschworenen</td>\n",
       "      <td>Sidney Lumet (dir.), Henry Fonda, Lee J. Cobb</td>\n",
       "      <td>1957</td>\n",
       "      <td>[Sidney Lumet (dir.),  Henry Fonda,  Lee J. Cobb]</td>\n",
       "      <td>Sidney Lumet</td>\n",
       "      <td>Sidney Lumet  ,  Henry Fonda,  Lee J. Cobb</td>\n",
       "    </tr>\n",
       "    <tr>\n",
       "      <th>...</th>\n",
       "      <td>...</td>\n",
       "      <td>...</td>\n",
       "      <td>...</td>\n",
       "      <td>...</td>\n",
       "      <td>...</td>\n",
       "      <td>...</td>\n",
       "    </tr>\n",
       "    <tr>\n",
       "      <th>245</th>\n",
       "      <td>Uzala, der Kirgise</td>\n",
       "      <td>Akira Kurosawa (dir.), Maksim Munzuk, Yuriy So...</td>\n",
       "      <td>1975</td>\n",
       "      <td>[Akira Kurosawa (dir.),  Maksim Munzuk,  Yuriy...</td>\n",
       "      <td>Akira Kurosawa</td>\n",
       "      <td>Akira Kurosawa  ,  Maksim Munzuk,  Yuriy Solomin</td>\n",
       "    </tr>\n",
       "    <tr>\n",
       "      <th>246</th>\n",
       "      <td>Gandhi</td>\n",
       "      <td>Richard Attenborough (dir.), Ben Kingsley, Joh...</td>\n",
       "      <td>1982</td>\n",
       "      <td>[Richard Attenborough (dir.),  Ben Kingsley,  ...</td>\n",
       "      <td>Richard Attenborough</td>\n",
       "      <td>Richard Attenborough  ,  Ben Kingsley,  John G...</td>\n",
       "    </tr>\n",
       "    <tr>\n",
       "      <th>247</th>\n",
       "      <td>The Help</td>\n",
       "      <td>Tate Taylor (dir.), Viola Davis, Emma Stone</td>\n",
       "      <td>2011</td>\n",
       "      <td>[Tate Taylor (dir.),  Viola Davis,  Emma Stone]</td>\n",
       "      <td>Tate Taylor</td>\n",
       "      <td>Tate Taylor  ,  Viola Davis,  Emma Stone</td>\n",
       "    </tr>\n",
       "    <tr>\n",
       "      <th>248</th>\n",
       "      <td>Aladdin</td>\n",
       "      <td>Ron Clements (dir.), Scott Weinger, Robin Will...</td>\n",
       "      <td>1992</td>\n",
       "      <td>[Ron Clements (dir.),  Scott Weinger,  Robin W...</td>\n",
       "      <td>Ron Clements</td>\n",
       "      <td>Ron Clements  ,  Scott Weinger,  Robin Williams</td>\n",
       "    </tr>\n",
       "    <tr>\n",
       "      <th>249</th>\n",
       "      <td>Der Gigant aus dem All</td>\n",
       "      <td>Brad Bird (dir.), Eli Marienthal, Harry Connic...</td>\n",
       "      <td>1999</td>\n",
       "      <td>[Brad Bird (dir.),  Eli Marienthal,  Harry Con...</td>\n",
       "      <td>Brad Bird</td>\n",
       "      <td>Brad Bird  ,  Eli Marienthal,  Harry Connick Jr.</td>\n",
       "    </tr>\n",
       "  </tbody>\n",
       "</table>\n",
       "<p>250 rows × 6 columns</p>\n",
       "</div>"
      ],
      "text/plain": [
       "                 movie_name  \\\n",
       "0          Die Verurteilten   \n",
       "1                  Der Pate   \n",
       "2           The Dark Knight   \n",
       "3                Der Pate 2   \n",
       "4    Die zwölf Geschworenen   \n",
       "..                      ...   \n",
       "245      Uzala, der Kirgise   \n",
       "246                  Gandhi   \n",
       "247                The Help   \n",
       "248                 Aladdin   \n",
       "249  Der Gigant aus dem All   \n",
       "\n",
       "                                        director_stars  release_year  \\\n",
       "0    Frank Darabont (dir.), Tim Robbins, Morgan Fre...          1994   \n",
       "1    Francis Ford Coppola (dir.), Marlon Brando, Al...          1972   \n",
       "2    Christopher Nolan (dir.), Christian Bale, Heat...          2008   \n",
       "3    Francis Ford Coppola (dir.), Al Pacino, Robert...          1974   \n",
       "4        Sidney Lumet (dir.), Henry Fonda, Lee J. Cobb          1957   \n",
       "..                                                 ...           ...   \n",
       "245  Akira Kurosawa (dir.), Maksim Munzuk, Yuriy So...          1975   \n",
       "246  Richard Attenborough (dir.), Ben Kingsley, Joh...          1982   \n",
       "247        Tate Taylor (dir.), Viola Davis, Emma Stone          2011   \n",
       "248  Ron Clements (dir.), Scott Weinger, Robin Will...          1992   \n",
       "249  Brad Bird (dir.), Eli Marienthal, Harry Connic...          1999   \n",
       "\n",
       "                                              director  \\\n",
       "0    [Frank Darabont (dir.),  Tim Robbins,  Morgan ...   \n",
       "1    [Francis Ford Coppola (dir.),  Marlon Brando, ...   \n",
       "2    [Christopher Nolan (dir.),  Christian Bale,  H...   \n",
       "3    [Francis Ford Coppola (dir.),  Al Pacino,  Rob...   \n",
       "4    [Sidney Lumet (dir.),  Henry Fonda,  Lee J. Cobb]   \n",
       "..                                                 ...   \n",
       "245  [Akira Kurosawa (dir.),  Maksim Munzuk,  Yuriy...   \n",
       "246  [Richard Attenborough (dir.),  Ben Kingsley,  ...   \n",
       "247    [Tate Taylor (dir.),  Viola Davis,  Emma Stone]   \n",
       "248  [Ron Clements (dir.),  Scott Weinger,  Robin W...   \n",
       "249  [Brad Bird (dir.),  Eli Marienthal,  Harry Con...   \n",
       "\n",
       "             director_clean                                      true_director  \n",
       "0          Frank Darabont      Frank Darabont  ,  Tim Robbins,  Morgan Freeman  \n",
       "1    Francis Ford Coppola    Francis Ford Coppola  ,  Marlon Brando,  Al Pa...  \n",
       "2       Christopher Nolan    Christopher Nolan  ,  Christian Bale,  Heath L...  \n",
       "3    Francis Ford Coppola    Francis Ford Coppola  ,  Al Pacino,  Robert De...  \n",
       "4            Sidney Lumet           Sidney Lumet  ,  Henry Fonda,  Lee J. Cobb  \n",
       "..                      ...                                                ...  \n",
       "245        Akira Kurosawa     Akira Kurosawa  ,  Maksim Munzuk,  Yuriy Solomin  \n",
       "246  Richard Attenborough    Richard Attenborough  ,  Ben Kingsley,  John G...  \n",
       "247           Tate Taylor             Tate Taylor  ,  Viola Davis,  Emma Stone  \n",
       "248          Ron Clements      Ron Clements  ,  Scott Weinger,  Robin Williams  \n",
       "249             Brad Bird     Brad Bird  ,  Eli Marienthal,  Harry Connick Jr.  \n",
       "\n",
       "[250 rows x 6 columns]"
      ]
     },
     "execution_count": 73,
     "metadata": {},
     "output_type": "execute_result"
    }
   ],
   "source": [
    "movies2"
   ]
  },
  {
   "cell_type": "code",
   "execution_count": 74,
   "id": "a328dee3-b4db-4433-8581-0c00da08ca0f",
   "metadata": {
    "tags": []
   },
   "outputs": [
    {
     "data": {
      "text/html": [
       "<div>\n",
       "<style scoped>\n",
       "    .dataframe tbody tr th:only-of-type {\n",
       "        vertical-align: middle;\n",
       "    }\n",
       "\n",
       "    .dataframe tbody tr th {\n",
       "        vertical-align: top;\n",
       "    }\n",
       "\n",
       "    .dataframe thead th {\n",
       "        text-align: right;\n",
       "    }\n",
       "</style>\n",
       "<table border=\"1\" class=\"dataframe\">\n",
       "  <thead>\n",
       "    <tr style=\"text-align: right;\">\n",
       "      <th></th>\n",
       "      <th>movie_name</th>\n",
       "      <th>director_stars</th>\n",
       "      <th>release_year</th>\n",
       "      <th>director</th>\n",
       "      <th>director_clean</th>\n",
       "      <th>true_director</th>\n",
       "    </tr>\n",
       "  </thead>\n",
       "  <tbody>\n",
       "    <tr>\n",
       "      <th>0</th>\n",
       "      <td>Die Verurteilten</td>\n",
       "      <td>Frank Darabont  ,  Tim Robbins,  Morgan Freeman</td>\n",
       "      <td>1994</td>\n",
       "      <td>[Frank Darabont (dir.),  Tim Robbins,  Morgan ...</td>\n",
       "      <td>Frank Darabont</td>\n",
       "      <td>Frank Darabont  ,  Tim Robbins,  Morgan Freeman</td>\n",
       "    </tr>\n",
       "    <tr>\n",
       "      <th>1</th>\n",
       "      <td>Der Pate</td>\n",
       "      <td>Francis Ford Coppola  ,  Marlon Brando,  Al Pa...</td>\n",
       "      <td>1972</td>\n",
       "      <td>[Francis Ford Coppola (dir.),  Marlon Brando, ...</td>\n",
       "      <td>Francis Ford Coppola</td>\n",
       "      <td>Francis Ford Coppola  ,  Marlon Brando,  Al Pa...</td>\n",
       "    </tr>\n",
       "    <tr>\n",
       "      <th>2</th>\n",
       "      <td>The Dark Knight</td>\n",
       "      <td>Christopher Nolan  ,  Christian Bale,  Heath L...</td>\n",
       "      <td>2008</td>\n",
       "      <td>[Christopher Nolan (dir.),  Christian Bale,  H...</td>\n",
       "      <td>Christopher Nolan</td>\n",
       "      <td>Christopher Nolan  ,  Christian Bale,  Heath L...</td>\n",
       "    </tr>\n",
       "    <tr>\n",
       "      <th>3</th>\n",
       "      <td>Der Pate 2</td>\n",
       "      <td>Francis Ford Coppola  ,  Al Pacino,  Robert De...</td>\n",
       "      <td>1974</td>\n",
       "      <td>[Francis Ford Coppola (dir.),  Al Pacino,  Rob...</td>\n",
       "      <td>Francis Ford Coppola</td>\n",
       "      <td>Francis Ford Coppola  ,  Al Pacino,  Robert De...</td>\n",
       "    </tr>\n",
       "    <tr>\n",
       "      <th>4</th>\n",
       "      <td>Die zwölf Geschworenen</td>\n",
       "      <td>Sidney Lumet  ,  Henry Fonda,  Lee J. Cobb</td>\n",
       "      <td>1957</td>\n",
       "      <td>[Sidney Lumet (dir.),  Henry Fonda,  Lee J. Cobb]</td>\n",
       "      <td>Sidney Lumet</td>\n",
       "      <td>Sidney Lumet  ,  Henry Fonda,  Lee J. Cobb</td>\n",
       "    </tr>\n",
       "    <tr>\n",
       "      <th>...</th>\n",
       "      <td>...</td>\n",
       "      <td>...</td>\n",
       "      <td>...</td>\n",
       "      <td>...</td>\n",
       "      <td>...</td>\n",
       "      <td>...</td>\n",
       "    </tr>\n",
       "    <tr>\n",
       "      <th>245</th>\n",
       "      <td>Uzala, der Kirgise</td>\n",
       "      <td>Akira Kurosawa  ,  Maksim Munzuk,  Yuriy Solomin</td>\n",
       "      <td>1975</td>\n",
       "      <td>[Akira Kurosawa (dir.),  Maksim Munzuk,  Yuriy...</td>\n",
       "      <td>Akira Kurosawa</td>\n",
       "      <td>Akira Kurosawa  ,  Maksim Munzuk,  Yuriy Solomin</td>\n",
       "    </tr>\n",
       "    <tr>\n",
       "      <th>246</th>\n",
       "      <td>Gandhi</td>\n",
       "      <td>Richard Attenborough  ,  Ben Kingsley,  John G...</td>\n",
       "      <td>1982</td>\n",
       "      <td>[Richard Attenborough (dir.),  Ben Kingsley,  ...</td>\n",
       "      <td>Richard Attenborough</td>\n",
       "      <td>Richard Attenborough  ,  Ben Kingsley,  John G...</td>\n",
       "    </tr>\n",
       "    <tr>\n",
       "      <th>247</th>\n",
       "      <td>The Help</td>\n",
       "      <td>Tate Taylor  ,  Viola Davis,  Emma Stone</td>\n",
       "      <td>2011</td>\n",
       "      <td>[Tate Taylor (dir.),  Viola Davis,  Emma Stone]</td>\n",
       "      <td>Tate Taylor</td>\n",
       "      <td>Tate Taylor  ,  Viola Davis,  Emma Stone</td>\n",
       "    </tr>\n",
       "    <tr>\n",
       "      <th>248</th>\n",
       "      <td>Aladdin</td>\n",
       "      <td>Ron Clements  ,  Scott Weinger,  Robin Williams</td>\n",
       "      <td>1992</td>\n",
       "      <td>[Ron Clements (dir.),  Scott Weinger,  Robin W...</td>\n",
       "      <td>Ron Clements</td>\n",
       "      <td>Ron Clements  ,  Scott Weinger,  Robin Williams</td>\n",
       "    </tr>\n",
       "    <tr>\n",
       "      <th>249</th>\n",
       "      <td>Der Gigant aus dem All</td>\n",
       "      <td>Brad Bird  ,  Eli Marienthal,  Harry Connick Jr.</td>\n",
       "      <td>1999</td>\n",
       "      <td>[Brad Bird (dir.),  Eli Marienthal,  Harry Con...</td>\n",
       "      <td>Brad Bird</td>\n",
       "      <td>Brad Bird  ,  Eli Marienthal,  Harry Connick Jr.</td>\n",
       "    </tr>\n",
       "  </tbody>\n",
       "</table>\n",
       "<p>250 rows × 6 columns</p>\n",
       "</div>"
      ],
      "text/plain": [
       "                 movie_name  \\\n",
       "0          Die Verurteilten   \n",
       "1                  Der Pate   \n",
       "2           The Dark Knight   \n",
       "3                Der Pate 2   \n",
       "4    Die zwölf Geschworenen   \n",
       "..                      ...   \n",
       "245      Uzala, der Kirgise   \n",
       "246                  Gandhi   \n",
       "247                The Help   \n",
       "248                 Aladdin   \n",
       "249  Der Gigant aus dem All   \n",
       "\n",
       "                                        director_stars  release_year  \\\n",
       "0      Frank Darabont  ,  Tim Robbins,  Morgan Freeman          1994   \n",
       "1    Francis Ford Coppola  ,  Marlon Brando,  Al Pa...          1972   \n",
       "2    Christopher Nolan  ,  Christian Bale,  Heath L...          2008   \n",
       "3    Francis Ford Coppola  ,  Al Pacino,  Robert De...          1974   \n",
       "4           Sidney Lumet  ,  Henry Fonda,  Lee J. Cobb          1957   \n",
       "..                                                 ...           ...   \n",
       "245   Akira Kurosawa  ,  Maksim Munzuk,  Yuriy Solomin          1975   \n",
       "246  Richard Attenborough  ,  Ben Kingsley,  John G...          1982   \n",
       "247           Tate Taylor  ,  Viola Davis,  Emma Stone          2011   \n",
       "248    Ron Clements  ,  Scott Weinger,  Robin Williams          1992   \n",
       "249   Brad Bird  ,  Eli Marienthal,  Harry Connick Jr.          1999   \n",
       "\n",
       "                                              director  \\\n",
       "0    [Frank Darabont (dir.),  Tim Robbins,  Morgan ...   \n",
       "1    [Francis Ford Coppola (dir.),  Marlon Brando, ...   \n",
       "2    [Christopher Nolan (dir.),  Christian Bale,  H...   \n",
       "3    [Francis Ford Coppola (dir.),  Al Pacino,  Rob...   \n",
       "4    [Sidney Lumet (dir.),  Henry Fonda,  Lee J. Cobb]   \n",
       "..                                                 ...   \n",
       "245  [Akira Kurosawa (dir.),  Maksim Munzuk,  Yuriy...   \n",
       "246  [Richard Attenborough (dir.),  Ben Kingsley,  ...   \n",
       "247    [Tate Taylor (dir.),  Viola Davis,  Emma Stone]   \n",
       "248  [Ron Clements (dir.),  Scott Weinger,  Robin W...   \n",
       "249  [Brad Bird (dir.),  Eli Marienthal,  Harry Con...   \n",
       "\n",
       "             director_clean                                      true_director  \n",
       "0          Frank Darabont      Frank Darabont  ,  Tim Robbins,  Morgan Freeman  \n",
       "1    Francis Ford Coppola    Francis Ford Coppola  ,  Marlon Brando,  Al Pa...  \n",
       "2       Christopher Nolan    Christopher Nolan  ,  Christian Bale,  Heath L...  \n",
       "3    Francis Ford Coppola    Francis Ford Coppola  ,  Al Pacino,  Robert De...  \n",
       "4            Sidney Lumet           Sidney Lumet  ,  Henry Fonda,  Lee J. Cobb  \n",
       "..                      ...                                                ...  \n",
       "245        Akira Kurosawa     Akira Kurosawa  ,  Maksim Munzuk,  Yuriy Solomin  \n",
       "246  Richard Attenborough    Richard Attenborough  ,  Ben Kingsley,  John G...  \n",
       "247           Tate Taylor             Tate Taylor  ,  Viola Davis,  Emma Stone  \n",
       "248          Ron Clements      Ron Clements  ,  Scott Weinger,  Robin Williams  \n",
       "249             Brad Bird     Brad Bird  ,  Eli Marienthal,  Harry Connick Jr.  \n",
       "\n",
       "[250 rows x 6 columns]"
      ]
     },
     "execution_count": 74,
     "metadata": {},
     "output_type": "execute_result"
    }
   ],
   "source": [
    "movies2['director_stars'] = movies2['true_director']\n",
    "movies2"
   ]
  },
  {
   "cell_type": "code",
   "execution_count": 75,
   "id": "90d3f888-e37c-4378-8c73-2ba6eb04f23b",
   "metadata": {
    "tags": []
   },
   "outputs": [],
   "source": [
    "movies2.drop(['director', 'director_clean', 'true_director'], axis=1, inplace=True)"
   ]
  },
  {
   "cell_type": "code",
   "execution_count": 76,
   "id": "a6d8a735-8fb8-49a6-b178-486522cc67e9",
   "metadata": {
    "tags": []
   },
   "outputs": [
    {
     "data": {
      "text/html": [
       "<div>\n",
       "<style scoped>\n",
       "    .dataframe tbody tr th:only-of-type {\n",
       "        vertical-align: middle;\n",
       "    }\n",
       "\n",
       "    .dataframe tbody tr th {\n",
       "        vertical-align: top;\n",
       "    }\n",
       "\n",
       "    .dataframe thead th {\n",
       "        text-align: right;\n",
       "    }\n",
       "</style>\n",
       "<table border=\"1\" class=\"dataframe\">\n",
       "  <thead>\n",
       "    <tr style=\"text-align: right;\">\n",
       "      <th></th>\n",
       "      <th>movie_name</th>\n",
       "      <th>director_stars</th>\n",
       "      <th>release_year</th>\n",
       "    </tr>\n",
       "  </thead>\n",
       "  <tbody>\n",
       "    <tr>\n",
       "      <th>0</th>\n",
       "      <td>Die Verurteilten</td>\n",
       "      <td>Frank Darabont  ,  Tim Robbins,  Morgan Freeman</td>\n",
       "      <td>1994</td>\n",
       "    </tr>\n",
       "    <tr>\n",
       "      <th>1</th>\n",
       "      <td>Der Pate</td>\n",
       "      <td>Francis Ford Coppola  ,  Marlon Brando,  Al Pa...</td>\n",
       "      <td>1972</td>\n",
       "    </tr>\n",
       "    <tr>\n",
       "      <th>2</th>\n",
       "      <td>The Dark Knight</td>\n",
       "      <td>Christopher Nolan  ,  Christian Bale,  Heath L...</td>\n",
       "      <td>2008</td>\n",
       "    </tr>\n",
       "    <tr>\n",
       "      <th>3</th>\n",
       "      <td>Der Pate 2</td>\n",
       "      <td>Francis Ford Coppola  ,  Al Pacino,  Robert De...</td>\n",
       "      <td>1974</td>\n",
       "    </tr>\n",
       "    <tr>\n",
       "      <th>4</th>\n",
       "      <td>Die zwölf Geschworenen</td>\n",
       "      <td>Sidney Lumet  ,  Henry Fonda,  Lee J. Cobb</td>\n",
       "      <td>1957</td>\n",
       "    </tr>\n",
       "  </tbody>\n",
       "</table>\n",
       "</div>"
      ],
      "text/plain": [
       "               movie_name                                     director_stars  \\\n",
       "0        Die Verurteilten    Frank Darabont  ,  Tim Robbins,  Morgan Freeman   \n",
       "1                Der Pate  Francis Ford Coppola  ,  Marlon Brando,  Al Pa...   \n",
       "2         The Dark Knight  Christopher Nolan  ,  Christian Bale,  Heath L...   \n",
       "3              Der Pate 2  Francis Ford Coppola  ,  Al Pacino,  Robert De...   \n",
       "4  Die zwölf Geschworenen         Sidney Lumet  ,  Henry Fonda,  Lee J. Cobb   \n",
       "\n",
       "   release_year  \n",
       "0          1994  \n",
       "1          1972  \n",
       "2          2008  \n",
       "3          1974  \n",
       "4          1957  "
      ]
     },
     "execution_count": 76,
     "metadata": {},
     "output_type": "execute_result"
    }
   ],
   "source": [
    "movies2.head()"
   ]
  },
  {
   "cell_type": "code",
   "execution_count": 77,
   "id": "a47e66a9-f41a-4988-aedc-05042684d4e0",
   "metadata": {},
   "outputs": [],
   "source": [
    "movies2.to_csv('Final_imdb_top_movies.csv')"
   ]
  }
 ],
 "metadata": {
  "kernelspec": {
   "display_name": "Python 3 (ipykernel)",
   "language": "python",
   "name": "python3"
  },
  "language_info": {
   "codemirror_mode": {
    "name": "ipython",
    "version": 3
   },
   "file_extension": ".py",
   "mimetype": "text/x-python",
   "name": "python",
   "nbconvert_exporter": "python",
   "pygments_lexer": "ipython3",
   "version": "3.9.7"
  }
 },
 "nbformat": 4,
 "nbformat_minor": 5
}
